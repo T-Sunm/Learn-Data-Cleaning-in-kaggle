{
  "metadata": {
    "kernelspec": {
      "display_name": "Python 3",
      "language": "python",
      "name": "python3"
    },
    "language_info": {
      "name": "python",
      "version": "3.10.14",
      "mimetype": "text/x-python",
      "codemirror_mode": {
        "name": "ipython",
        "version": 3
      },
      "pygments_lexer": "ipython3",
      "nbconvert_exporter": "python",
      "file_extension": ".py"
    },
    "kaggle": {
      "accelerator": "nvidiaTeslaT4",
      "dataSources": [
        {
          "sourceId": 16930,
          "sourceType": "datasetVersion",
          "datasetId": 4104
        }
      ],
      "isInternetEnabled": true,
      "language": "python",
      "sourceType": "notebook",
      "isGpuEnabled": true
    },
    "colab": {
      "name": "Exercise: Scaling and Normalization",
      "provenance": [],
      "include_colab_link": true
    }
  },
  "nbformat_minor": 0,
  "nbformat": 4,
  "cells": [
    {
      "cell_type": "markdown",
      "metadata": {
        "id": "view-in-github",
        "colab_type": "text"
      },
      "source": [
        "<a href=\"https://colab.research.google.com/github/T-Sunm/Learn-Data-Cleaning-in-kaggle/blob/main/Exercise_Scaling_and_Normalization.ipynb\" target=\"_parent\"><img src=\"https://colab.research.google.com/assets/colab-badge.svg\" alt=\"Open In Colab\"/></a>"
      ]
    },
    {
      "source": [
        "\n",
        "# IMPORTANT: RUN THIS CELL IN ORDER TO IMPORT YOUR KAGGLE DATA SOURCES\n",
        "# TO THE CORRECT LOCATION (/kaggle/input) IN YOUR NOTEBOOK,\n",
        "# THEN FEEL FREE TO DELETE THIS CELL.\n",
        "# NOTE: THIS NOTEBOOK ENVIRONMENT DIFFERS FROM KAGGLE'S PYTHON\n",
        "# ENVIRONMENT SO THERE MAY BE MISSING LIBRARIES USED BY YOUR\n",
        "# NOTEBOOK.\n",
        "\n",
        "import os\n",
        "import sys\n",
        "from tempfile import NamedTemporaryFile\n",
        "from urllib.request import urlopen\n",
        "from urllib.parse import unquote, urlparse\n",
        "from urllib.error import HTTPError\n",
        "from zipfile import ZipFile\n",
        "import tarfile\n",
        "import shutil\n",
        "\n",
        "CHUNK_SIZE = 40960\n",
        "DATA_SOURCE_MAPPING = 'kickstarter-projects:https%3A%2F%2Fstorage.googleapis.com%2Fkaggle-data-sets%2F4104%2F16930%2Fbundle%2Farchive.zip%3FX-Goog-Algorithm%3DGOOG4-RSA-SHA256%26X-Goog-Credential%3Dgcp-kaggle-com%2540kaggle-161607.iam.gserviceaccount.com%252F20240827%252Fauto%252Fstorage%252Fgoog4_request%26X-Goog-Date%3D20240827T165552Z%26X-Goog-Expires%3D259200%26X-Goog-SignedHeaders%3Dhost%26X-Goog-Signature%3D9684c99958538c06597b747fe5a2030626c83a91e2764a5daf9194bc8fac9c0fbc8472ca6c8629237c190a2202d6c3566d3cedb6a933f94def7b7fde290b616e5527786ab6d73192c8b0b2226d86fe6e9c47dd97d77d647d738348b8dc035c94e0b3508ec580efec5c4fdeb4fbcc338ee275a4c664f2c130cd57661320452edb2682c4c6fe4e813535efacf8346190085e846391f3c8780d1461a7ebf775ee97260c9e41927e9e2b14922a73d0ef6fe6c7c14636266c810a2617deffe966d8b7c141d8ee2d8d0fb43d8c706b2721a851606d712392a3c2582cbdca18fd97a620519197dfa2f9c64c65aa0869430bdf8a3324d5156ee585d410fd012333370976'\n",
        "\n",
        "KAGGLE_INPUT_PATH='/kaggle/input'\n",
        "KAGGLE_WORKING_PATH='/kaggle/working'\n",
        "KAGGLE_SYMLINK='kaggle'\n",
        "\n",
        "!umount /kaggle/input/ 2> /dev/null\n",
        "shutil.rmtree('/kaggle/input', ignore_errors=True)\n",
        "os.makedirs(KAGGLE_INPUT_PATH, 0o777, exist_ok=True)\n",
        "os.makedirs(KAGGLE_WORKING_PATH, 0o777, exist_ok=True)\n",
        "\n",
        "try:\n",
        "  os.symlink(KAGGLE_INPUT_PATH, os.path.join(\"..\", 'input'), target_is_directory=True)\n",
        "except FileExistsError:\n",
        "  pass\n",
        "try:\n",
        "  os.symlink(KAGGLE_WORKING_PATH, os.path.join(\"..\", 'working'), target_is_directory=True)\n",
        "except FileExistsError:\n",
        "  pass\n",
        "\n",
        "for data_source_mapping in DATA_SOURCE_MAPPING.split(','):\n",
        "    directory, download_url_encoded = data_source_mapping.split(':')\n",
        "    download_url = unquote(download_url_encoded)\n",
        "    filename = urlparse(download_url).path\n",
        "    destination_path = os.path.join(KAGGLE_INPUT_PATH, directory)\n",
        "    try:\n",
        "        with urlopen(download_url) as fileres, NamedTemporaryFile() as tfile:\n",
        "            total_length = fileres.headers['content-length']\n",
        "            print(f'Downloading {directory}, {total_length} bytes compressed')\n",
        "            dl = 0\n",
        "            data = fileres.read(CHUNK_SIZE)\n",
        "            while len(data) > 0:\n",
        "                dl += len(data)\n",
        "                tfile.write(data)\n",
        "                done = int(50 * dl / int(total_length))\n",
        "                sys.stdout.write(f\"\\r[{'=' * done}{' ' * (50-done)}] {dl} bytes downloaded\")\n",
        "                sys.stdout.flush()\n",
        "                data = fileres.read(CHUNK_SIZE)\n",
        "            if filename.endswith('.zip'):\n",
        "              with ZipFile(tfile) as zfile:\n",
        "                zfile.extractall(destination_path)\n",
        "            else:\n",
        "              with tarfile.open(tfile.name) as tarfile:\n",
        "                tarfile.extractall(destination_path)\n",
        "            print(f'\\nDownloaded and uncompressed: {directory}')\n",
        "    except HTTPError as e:\n",
        "        print(f'Failed to load (likely expired) {download_url} to path {destination_path}')\n",
        "        continue\n",
        "    except OSError as e:\n",
        "        print(f'Failed to load {download_url} to path {destination_path}')\n",
        "        continue\n",
        "\n",
        "print('Data source import complete.')\n"
      ],
      "metadata": {
        "id": "V5wog38nwyF1"
      },
      "cell_type": "code",
      "outputs": [],
      "execution_count": null
    },
    {
      "cell_type": "markdown",
      "source": [
        "**This notebook is an exercise in the [Data Cleaning](https://www.kaggle.com/learn/data-cleaning) course.  You can reference the tutorial at [this link](https://www.kaggle.com/alexisbcook/scaling-and-normalization).**\n",
        "\n",
        "---\n"
      ],
      "metadata": {
        "id": "uHYRNZF8wyF4"
      }
    },
    {
      "cell_type": "markdown",
      "source": [
        "In this exercise, you'll apply what you learned in the **Scaling and normalization** tutorial.\n",
        "\n",
        "# Setup\n",
        "\n",
        "The questions below will give you feedback on your work. Run the following cell to set up the feedback system."
      ],
      "metadata": {
        "id": "KzvyLqUywyF5"
      }
    },
    {
      "cell_type": "code",
      "source": [
        "from learntools.core import binder\n",
        "binder.bind(globals())\n",
        "from learntools.data_cleaning.ex2 import *\n",
        "print(\"Setup Complete\")"
      ],
      "metadata": {
        "execution": {
          "iopub.status.busy": "2024-08-27T15:23:14.386649Z",
          "iopub.status.idle": "2024-08-27T15:23:14.386987Z",
          "shell.execute_reply.started": "2024-08-27T15:23:14.386812Z",
          "shell.execute_reply": "2024-08-27T15:23:14.38683Z"
        },
        "trusted": true,
        "id": "wknlM4jvwyF5"
      },
      "execution_count": null,
      "outputs": []
    },
    {
      "cell_type": "markdown",
      "source": [
        "# Get our environment set up\n",
        "\n",
        "To practice scaling and normalization, we're going to use a [dataset of Kickstarter campaigns](https://www.kaggle.com/kemical/kickstarter-projects). (Kickstarter is a website where people can ask people to invest in various projects and concept products.)\n",
        "\n",
        "The next code cell loads in the libraries and dataset we'll be using."
      ],
      "metadata": {
        "id": "whhdDNhOwyF6"
      }
    },
    {
      "cell_type": "code",
      "source": [
        "# modules we'll use\n",
        "import pandas as pd\n",
        "import numpy as np\n",
        "\n",
        "# for Box-Cox Transformation\n",
        "from scipy import stats\n",
        "\n",
        "# for min_max scaling\n",
        "from mlxtend.preprocessing import minmax_scaling\n",
        "\n",
        "# plotting modules\n",
        "import seaborn as sns\n",
        "import matplotlib.pyplot as plt\n",
        "\n",
        "# read in all our data\n",
        "kickstarters_2017 = pd.read_csv(\"../input/kickstarter-projects/ks-projects-201801.csv\")\n",
        "\n",
        "# set seed for reproducibility\n",
        "np.random.seed(0)"
      ],
      "metadata": {
        "execution": {
          "iopub.status.busy": "2024-08-27T15:23:14.388496Z",
          "iopub.status.idle": "2024-08-27T15:23:14.388824Z",
          "shell.execute_reply.started": "2024-08-27T15:23:14.388658Z",
          "shell.execute_reply": "2024-08-27T15:23:14.388675Z"
        },
        "trusted": true,
        "id": "wZgz4L6NwyF6"
      },
      "execution_count": null,
      "outputs": []
    },
    {
      "cell_type": "code",
      "source": [
        "kickstarters_2017.head()"
      ],
      "metadata": {
        "execution": {
          "iopub.status.busy": "2024-08-27T15:23:14.390007Z",
          "iopub.status.idle": "2024-08-27T15:23:14.390398Z",
          "shell.execute_reply.started": "2024-08-27T15:23:14.390216Z",
          "shell.execute_reply": "2024-08-27T15:23:14.390235Z"
        },
        "trusted": true,
        "id": "w-HWGrh9wyF6"
      },
      "execution_count": null,
      "outputs": []
    },
    {
      "cell_type": "markdown",
      "source": [
        "Let's start by scaling the goals of each campaign, which is how much money they were asking for.  After scaling, all values lie between 0 and 1."
      ],
      "metadata": {
        "id": "Snct7J1YwyF6"
      }
    },
    {
      "cell_type": "code",
      "source": [
        "# select the usd_goal_real column\n",
        "original_data = pd.DataFrame(kickstarters_2017.usd_goal_real)\n",
        "\n",
        "# scale the goals from 0 to 1\n",
        "scaled_data = minmax_scaling(original_data, columns=['usd_goal_real'])\n",
        "\n",
        "print('Original data\\nPreview:\\n', original_data.head())\n",
        "print('Minimum value:', float(original_data.min()),\n",
        "      '\\nMaximum value:', float(original_data.max()))\n",
        "print('_'*30)\n",
        "\n",
        "print('\\nScaled data\\nPreview:\\n', scaled_data.head())\n",
        "print('Minimum value:', float(scaled_data.min()),\n",
        "      '\\nMaximum value:', float(scaled_data.max()))"
      ],
      "metadata": {
        "execution": {
          "iopub.status.busy": "2024-08-27T15:23:14.391602Z",
          "iopub.status.idle": "2024-08-27T15:23:14.391976Z",
          "shell.execute_reply.started": "2024-08-27T15:23:14.391792Z",
          "shell.execute_reply": "2024-08-27T15:23:14.391811Z"
        },
        "trusted": true,
        "id": "9DP17tk4wyF7"
      },
      "execution_count": null,
      "outputs": []
    },
    {
      "cell_type": "markdown",
      "source": [
        "# 1) Practice scaling\n",
        "\n",
        "We just scaled the \"usd_goal_real\" column. What about the \"goal\" column?\n",
        "\n",
        "Begin by running the code cell below to create a DataFrame `original_goal_data` containing the \"goal\" column."
      ],
      "metadata": {
        "id": "fq-j5KSbwyF7"
      }
    },
    {
      "cell_type": "code",
      "source": [
        "# select the usd_goal_real column\n",
        "original_goal_data = pd.DataFrame(kickstarters_2017.goal)\n",
        "original_goal_data"
      ],
      "metadata": {
        "execution": {
          "iopub.status.busy": "2024-08-27T15:23:14.393404Z",
          "iopub.status.idle": "2024-08-27T15:23:14.393775Z",
          "shell.execute_reply.started": "2024-08-27T15:23:14.39359Z",
          "shell.execute_reply": "2024-08-27T15:23:14.393609Z"
        },
        "trusted": true,
        "id": "DztxDh3OwyF7"
      },
      "execution_count": null,
      "outputs": []
    },
    {
      "cell_type": "markdown",
      "source": [
        "Use `original_goal_data` to create a new DataFrame `scaled_goal_data` with values scaled between 0 and 1. You must use the `minmax_scaling()` function."
      ],
      "metadata": {
        "id": "Zy6ql9gdwyF7"
      }
    },
    {
      "cell_type": "code",
      "source": [
        "# TODO: Your code here\n",
        "scaled_goal_data = minmax_scaling(original_goal_data, columns=[\"goal\"])\n",
        "\n",
        "# Check your answer\n",
        "q1.check()\n",
        "\n",
        "scaled_goal_data['goal']"
      ],
      "metadata": {
        "execution": {
          "iopub.status.busy": "2024-08-27T15:23:40.959697Z",
          "iopub.execute_input": "2024-08-27T15:23:40.960089Z",
          "iopub.status.idle": "2024-08-27T15:23:40.99027Z",
          "shell.execute_reply.started": "2024-08-27T15:23:40.960052Z",
          "shell.execute_reply": "2024-08-27T15:23:40.989261Z"
        },
        "trusted": true,
        "id": "cm8VpUlzwyF7"
      },
      "execution_count": null,
      "outputs": []
    },
    {
      "cell_type": "code",
      "source": [
        "# Lines below will give you a hint or solution code\n",
        "#q1.hint()\n",
        "#q1.solution()"
      ],
      "metadata": {
        "execution": {
          "iopub.status.busy": "2024-08-27T15:23:14.396707Z",
          "iopub.status.idle": "2024-08-27T15:23:14.397086Z",
          "shell.execute_reply.started": "2024-08-27T15:23:14.396901Z",
          "shell.execute_reply": "2024-08-27T15:23:14.39692Z"
        },
        "trusted": true,
        "id": "jqhTCiMywyF7"
      },
      "execution_count": null,
      "outputs": []
    },
    {
      "cell_type": "markdown",
      "source": [
        "# 2) Practice normalization\n",
        "\n",
        "Now you'll practice normalization. We begin by normalizing the amount of money pledged to each campaign."
      ],
      "metadata": {
        "id": "GNwtG2oCwyF7"
      }
    },
    {
      "cell_type": "code",
      "source": [
        "# get the index of all positive pledges (Box-Cox only takes positive values)\n",
        "index_of_positive_pledges = kickstarters_2017.usd_pledged_real > 0\n",
        "\n",
        "# get only positive pledges (using their indexes)\n",
        "positive_pledges = kickstarters_2017.usd_pledged_real.loc[index_of_positive_pledges]\n",
        "\n",
        "# normalize the pledges (w/ Box-Cox)\n",
        "normalized_pledges_usd = pd.Series(stats.boxcox(positive_pledges)[0],\n",
        "                               name='usd_pledged_real', index=positive_pledges.index)\n",
        "\n",
        "print('Original data\\nPreview:\\n', positive_pledges.head())\n",
        "print('Minimum value:', float(positive_pledges.min()),\n",
        "      '\\nMaximum value:', float(positive_pledges.max()))\n",
        "print('_'*30)\n",
        "\n",
        "print('\\nNormalized data\\nPreview:\\n', normalized_pledges_usd.head())\n",
        "print('Minimum value:', float(normalized_pledges_usd.min()),\n",
        "      '\\nMaximum value:', float(normalized_pledges_usd.max()))"
      ],
      "metadata": {
        "execution": {
          "iopub.status.busy": "2024-08-27T16:00:26.052706Z",
          "iopub.execute_input": "2024-08-27T16:00:26.05311Z",
          "iopub.status.idle": "2024-08-27T16:00:27.430261Z",
          "shell.execute_reply.started": "2024-08-27T16:00:26.053073Z",
          "shell.execute_reply": "2024-08-27T16:00:27.429168Z"
        },
        "trusted": true,
        "id": "Y434ceBbwyF7"
      },
      "execution_count": null,
      "outputs": []
    },
    {
      "cell_type": "markdown",
      "source": [
        "The values have changed significantly with normalization!\n",
        "\n",
        "In the next code cell, you'll take a look at the distribution of the normalized data, where it should now resemble a normal distribution."
      ],
      "metadata": {
        "id": "1RtVFgKEwyF8"
      }
    },
    {
      "cell_type": "code",
      "source": [
        "# plot normalized data\n",
        "ax = sns.histplot(normalized_pledges, kde=True)\n",
        "ax.set_title(\"Normalized data\")\n",
        "plt.show()"
      ],
      "metadata": {
        "execution": {
          "iopub.status.busy": "2024-08-27T15:28:07.32364Z",
          "iopub.execute_input": "2024-08-27T15:28:07.324031Z",
          "iopub.status.idle": "2024-08-27T15:28:09.445155Z",
          "shell.execute_reply.started": "2024-08-27T15:28:07.323994Z",
          "shell.execute_reply": "2024-08-27T15:28:09.444124Z"
        },
        "trusted": true,
        "id": "jdgHuSMNwyF8"
      },
      "execution_count": null,
      "outputs": []
    },
    {
      "cell_type": "markdown",
      "source": [
        "We used the \"usd_pledged_real\" column. Follow the same process to normalize the \"pledged\" column."
      ],
      "metadata": {
        "id": "4grqlu1EwyF8"
      }
    },
    {
      "cell_type": "code",
      "source": [
        "# get the index of all positive pledges (Box-Cox only takes positive values)\n",
        "index_pos_pledged = kickstarters_2017.pledged > 0\n",
        "\n",
        "# get only positive pledges (using their indexes)\n",
        "pos_pledged = kickstarters_2017[index_pos_pledged][\"pledged\"]\n",
        "\n",
        "# normalize the pledges (w/ Box-Cox)\n",
        "normalized_pledges = pd.Series(stats.boxcox(pos_pledged)[0],\n",
        "                               name='pledged_normalize', index=pos_pledged.index)\n",
        "pos_pledged"
      ],
      "metadata": {
        "trusted": true,
        "id": "oR2QA2xMwyF8"
      },
      "execution_count": null,
      "outputs": []
    },
    {
      "cell_type": "code",
      "source": [
        "log_pledged = np.log1p(pos_pledged)\n",
        "log_pledged"
      ],
      "metadata": {
        "trusted": true,
        "id": "6owEM0SKwyF8"
      },
      "execution_count": null,
      "outputs": []
    },
    {
      "cell_type": "code",
      "source": [
        "log_pledged = np.log1p(pos_pledged)\n",
        "fig, ax = plt.subplots(1, 2, figsize=(15, 3))\n",
        "\n",
        "sns.histplot(pos_pledged, kde=True, ax=ax[0])\n",
        "ax[0].set_title(\"pledged original\")\n",
        "\n",
        "sns.histplot(log_pledged, kde=True, ax=ax[1])\n",
        "ax[1].set_title(\"pledged use logarith\")\n",
        "plt.show()"
      ],
      "metadata": {
        "execution": {
          "iopub.status.busy": "2024-08-27T16:48:26.003192Z",
          "iopub.execute_input": "2024-08-27T16:48:26.00389Z",
          "iopub.status.idle": "2024-08-27T16:52:09.691228Z",
          "shell.execute_reply.started": "2024-08-27T16:48:26.003852Z",
          "shell.execute_reply": "2024-08-27T16:52:09.690201Z"
        },
        "trusted": true,
        "id": "EUibF6Y5wyF8"
      },
      "execution_count": null,
      "outputs": []
    },
    {
      "cell_type": "code",
      "source": [
        "fig, ax = plt.subplots(1, 2, figsize=(15, 3))\n",
        "\n",
        "sns.histplot(normalized_pledges, kde=True, ax=ax[0])\n",
        "ax[0].set_title(\"Normalized data\")\n",
        "\n",
        "sns.histplot(normalized_pledges_usd, kde=True, ax=ax[1])\n",
        "ax[1].set_title(\"Normalized data pledges usd\")\n",
        "plt.show()"
      ],
      "metadata": {
        "execution": {
          "iopub.status.busy": "2024-08-27T16:01:00.171313Z",
          "iopub.execute_input": "2024-08-27T16:01:00.171968Z",
          "iopub.status.idle": "2024-08-27T16:01:04.28516Z",
          "shell.execute_reply.started": "2024-08-27T16:01:00.171928Z",
          "shell.execute_reply": "2024-08-27T16:01:04.284216Z"
        },
        "trusted": true,
        "id": "LGobiKMQwyF8"
      },
      "execution_count": null,
      "outputs": []
    },
    {
      "cell_type": "markdown",
      "source": [
        "How does the normalized \"usd_pledged_real\" column look different from when we normalized the \"pledged\" column?  Or, do they look mostly the same?\n",
        "\n",
        "Once you have an answer, run the code cell below."
      ],
      "metadata": {
        "id": "04_UvzoIwyF8"
      }
    },
    {
      "cell_type": "code",
      "source": [
        "# Check your answer (Run this code cell to receive credit!)\n",
        "q2.check()"
      ],
      "metadata": {
        "execution": {
          "iopub.status.busy": "2024-08-27T15:23:14.411853Z",
          "iopub.status.idle": "2024-08-27T15:23:14.412259Z",
          "shell.execute_reply.started": "2024-08-27T15:23:14.412044Z",
          "shell.execute_reply": "2024-08-27T15:23:14.412061Z"
        },
        "trusted": true,
        "id": "FDaYk9KtwyF8"
      },
      "execution_count": null,
      "outputs": []
    },
    {
      "cell_type": "code",
      "source": [
        "# Line below will give you a hint\n",
        "#q2.hint()"
      ],
      "metadata": {
        "execution": {
          "iopub.status.busy": "2024-08-27T15:23:14.413358Z",
          "iopub.status.idle": "2024-08-27T15:23:14.413733Z",
          "shell.execute_reply.started": "2024-08-27T15:23:14.413548Z",
          "shell.execute_reply": "2024-08-27T15:23:14.413567Z"
        },
        "trusted": true,
        "id": "cTFrWQjBwyF8"
      },
      "execution_count": null,
      "outputs": []
    },
    {
      "cell_type": "markdown",
      "source": [
        "# (Optional) More practice\n",
        "\n",
        "Try finding a new dataset and pretend you're preparing to perform a [regression analysis](https://www.kaggle.com/rtatman/the-5-day-regression-challenge).\n",
        "\n",
        "[These datasets are a good start!](https://www.kaggle.com/rtatman/datasets-for-regression-analysis)\n",
        "\n",
        "Pick three or four variables and decide if you need to normalize or scale any of them and, if you think you should, practice applying the correct technique.\n",
        "\n",
        "# Keep going\n",
        "\n",
        "In the next lesson, learn how to [**parse dates**](https://www.kaggle.com/alexisbcook/parsing-dates) in a dataset."
      ],
      "metadata": {
        "id": "qnxUAh_IwyF8"
      }
    },
    {
      "cell_type": "markdown",
      "source": [
        "---\n",
        "\n",
        "\n",
        "\n",
        "\n",
        "*Have questions or comments? Visit the [course discussion forum](https://www.kaggle.com/learn/data-cleaning/discussion) to chat with other learners.*"
      ],
      "metadata": {
        "id": "XvN_U7DHwyF8"
      }
    }
  ]
}