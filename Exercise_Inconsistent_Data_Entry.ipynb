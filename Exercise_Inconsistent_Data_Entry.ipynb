{
  "metadata": {
    "kernelspec": {
      "display_name": "Python 3",
      "language": "python",
      "name": "python3"
    },
    "language_info": {
      "name": "python",
      "version": "3.10.14",
      "mimetype": "text/x-python",
      "codemirror_mode": {
        "name": "ipython",
        "version": 3
      },
      "pygments_lexer": "ipython3",
      "nbconvert_exporter": "python",
      "file_extension": ".py"
    },
    "kaggle": {
      "accelerator": "none",
      "dataSources": [
        {
          "sourceId": 1402182,
          "sourceType": "datasetVersion",
          "datasetId": 819513
        }
      ],
      "isInternetEnabled": false,
      "language": "python",
      "sourceType": "notebook",
      "isGpuEnabled": false
    },
    "colab": {
      "name": "Exercise: Inconsistent Data Entry",
      "provenance": [],
      "include_colab_link": true
    }
  },
  "nbformat_minor": 0,
  "nbformat": 4,
  "cells": [
    {
      "cell_type": "markdown",
      "metadata": {
        "id": "view-in-github",
        "colab_type": "text"
      },
      "source": [
        "<a href=\"https://colab.research.google.com/github/T-Sunm/Learn-Data-Cleaning-in-kaggle/blob/main/Exercise_Inconsistent_Data_Entry.ipynb\" target=\"_parent\"><img src=\"https://colab.research.google.com/assets/colab-badge.svg\" alt=\"Open In Colab\"/></a>"
      ]
    },
    {
      "source": [
        "\n",
        "# IMPORTANT: RUN THIS CELL IN ORDER TO IMPORT YOUR KAGGLE DATA SOURCES\n",
        "# TO THE CORRECT LOCATION (/kaggle/input) IN YOUR NOTEBOOK,\n",
        "# THEN FEEL FREE TO DELETE THIS CELL.\n",
        "# NOTE: THIS NOTEBOOK ENVIRONMENT DIFFERS FROM KAGGLE'S PYTHON\n",
        "# ENVIRONMENT SO THERE MAY BE MISSING LIBRARIES USED BY YOUR\n",
        "# NOTEBOOK.\n",
        "\n",
        "import os\n",
        "import sys\n",
        "from tempfile import NamedTemporaryFile\n",
        "from urllib.request import urlopen\n",
        "from urllib.parse import unquote, urlparse\n",
        "from urllib.error import HTTPError\n",
        "from zipfile import ZipFile\n",
        "import tarfile\n",
        "import shutil\n",
        "\n",
        "CHUNK_SIZE = 40960\n",
        "DATA_SOURCE_MAPPING = 'pakistan-intellectual-capital:https%3A%2F%2Fstorage.googleapis.com%2Fkaggle-data-sets%2F819513%2F1402182%2Fbundle%2Farchive.zip%3FX-Goog-Algorithm%3DGOOG4-RSA-SHA256%26X-Goog-Credential%3Dgcp-kaggle-com%2540kaggle-161607.iam.gserviceaccount.com%252F20240909%252Fauto%252Fstorage%252Fgoog4_request%26X-Goog-Date%3D20240909T154135Z%26X-Goog-Expires%3D259200%26X-Goog-SignedHeaders%3Dhost%26X-Goog-Signature%3D8e3b8793228f864a3f7c68e8937bed00faf84565e29a97be632f0b4697192c0ec4e82c75c6a106f61c2f3c42d19ddf332d7b245923b36c0ec88f29906e00d233e4acf5c6d6b0addd4c4b8c10a4ce05326ae2458dd09f8bc7fdacf78a03f2b77bee1baf523fb6db7181b66cdc6d472b9edf9a3e37c6892be4f0cc641a8ea9e1ca861150cb69b7659e17ee64c5441f86db707257cb89a7a4df3d720caaab3b178d584fc0bc7de3f8a87e3ac1d972c528a22c4675c4a9a473bc8cac43fc3e66e2aa00abc698cb7bbd25e993fb6673ad65528eeb2cfe6d7441f154f9028a2d65bd52236c17198dc844dd8a11b8f60d5492c9606af367fb1a3c9c329bdd8a20321385'\n",
        "\n",
        "KAGGLE_INPUT_PATH='/kaggle/input'\n",
        "KAGGLE_WORKING_PATH='/kaggle/working'\n",
        "KAGGLE_SYMLINK='kaggle'\n",
        "\n",
        "!umount /kaggle/input/ 2> /dev/null\n",
        "shutil.rmtree('/kaggle/input', ignore_errors=True)\n",
        "os.makedirs(KAGGLE_INPUT_PATH, 0o777, exist_ok=True)\n",
        "os.makedirs(KAGGLE_WORKING_PATH, 0o777, exist_ok=True)\n",
        "\n",
        "try:\n",
        "  os.symlink(KAGGLE_INPUT_PATH, os.path.join(\"..\", 'input'), target_is_directory=True)\n",
        "except FileExistsError:\n",
        "  pass\n",
        "try:\n",
        "  os.symlink(KAGGLE_WORKING_PATH, os.path.join(\"..\", 'working'), target_is_directory=True)\n",
        "except FileExistsError:\n",
        "  pass\n",
        "\n",
        "for data_source_mapping in DATA_SOURCE_MAPPING.split(','):\n",
        "    directory, download_url_encoded = data_source_mapping.split(':')\n",
        "    download_url = unquote(download_url_encoded)\n",
        "    filename = urlparse(download_url).path\n",
        "    destination_path = os.path.join(KAGGLE_INPUT_PATH, directory)\n",
        "    try:\n",
        "        with urlopen(download_url) as fileres, NamedTemporaryFile() as tfile:\n",
        "            total_length = fileres.headers['content-length']\n",
        "            print(f'Downloading {directory}, {total_length} bytes compressed')\n",
        "            dl = 0\n",
        "            data = fileres.read(CHUNK_SIZE)\n",
        "            while len(data) > 0:\n",
        "                dl += len(data)\n",
        "                tfile.write(data)\n",
        "                done = int(50 * dl / int(total_length))\n",
        "                sys.stdout.write(f\"\\r[{'=' * done}{' ' * (50-done)}] {dl} bytes downloaded\")\n",
        "                sys.stdout.flush()\n",
        "                data = fileres.read(CHUNK_SIZE)\n",
        "            if filename.endswith('.zip'):\n",
        "              with ZipFile(tfile) as zfile:\n",
        "                zfile.extractall(destination_path)\n",
        "            else:\n",
        "              with tarfile.open(tfile.name) as tarfile:\n",
        "                tarfile.extractall(destination_path)\n",
        "            print(f'\\nDownloaded and uncompressed: {directory}')\n",
        "    except HTTPError as e:\n",
        "        print(f'Failed to load (likely expired) {download_url} to path {destination_path}')\n",
        "        continue\n",
        "    except OSError as e:\n",
        "        print(f'Failed to load {download_url} to path {destination_path}')\n",
        "        continue\n",
        "\n",
        "print('Data source import complete.')\n"
      ],
      "metadata": {
        "id": "EThKUOUqcnAk"
      },
      "cell_type": "code",
      "outputs": [],
      "execution_count": null
    },
    {
      "cell_type": "markdown",
      "source": [
        "**This notebook is an exercise in the [Data Cleaning](https://www.kaggle.com/learn/data-cleaning) course.  You can reference the tutorial at [this link](https://www.kaggle.com/alexisbcook/inconsistent-data-entry).**\n",
        "\n",
        "---\n"
      ],
      "metadata": {
        "id": "H0ZAGbbicnAl"
      }
    },
    {
      "cell_type": "markdown",
      "source": [
        "In this exercise, you'll apply what you learned in the **Inconsistent data entry** tutorial.\n",
        "\n",
        "# Setup\n",
        "\n",
        "The questions below will give you feedback on your work. Run the following cell to set up the feedback system."
      ],
      "metadata": {
        "id": "yKZ9eeqkcnAm"
      }
    },
    {
      "cell_type": "code",
      "source": [
        "from learntools.core import binder\n",
        "binder.bind(globals())\n",
        "from learntools.data_cleaning.ex5 import *\n",
        "print(\"Setup Complete\")"
      ],
      "metadata": {
        "execution": {
          "iopub.status.busy": "2024-09-09T15:25:34.499378Z",
          "iopub.execute_input": "2024-09-09T15:25:34.499846Z",
          "iopub.status.idle": "2024-09-09T15:25:34.507226Z",
          "shell.execute_reply.started": "2024-09-09T15:25:34.499797Z",
          "shell.execute_reply": "2024-09-09T15:25:34.506004Z"
        },
        "trusted": true,
        "id": "ky7I0AM9cnAn",
        "outputId": "1812176c-30a8-4498-dbf1-f2b9daa40732"
      },
      "execution_count": null,
      "outputs": [
        {
          "name": "stdout",
          "text": "Setup Complete\n",
          "output_type": "stream"
        }
      ]
    },
    {
      "cell_type": "markdown",
      "source": [
        "# Get our environment set up\n",
        "\n",
        "The first thing we'll need to do is load in the libraries and dataset we'll be using.  We use the same dataset from the tutorial."
      ],
      "metadata": {
        "id": "Lq8PNLcXcnAo"
      }
    },
    {
      "cell_type": "code",
      "source": [
        "# modules we'll use\n",
        "import pandas as pd\n",
        "import numpy as np\n",
        "\n",
        "# helpful modules\n",
        "import fuzzywuzzy\n",
        "from fuzzywuzzy import process\n",
        "import charset_normalizer"
      ],
      "metadata": {
        "execution": {
          "iopub.status.busy": "2024-09-09T15:25:34.51555Z",
          "iopub.execute_input": "2024-09-09T15:25:34.516041Z",
          "iopub.status.idle": "2024-09-09T15:25:34.523478Z",
          "shell.execute_reply.started": "2024-09-09T15:25:34.515996Z",
          "shell.execute_reply": "2024-09-09T15:25:34.522198Z"
        },
        "trusted": true,
        "id": "tV5MD8r0cnAo"
      },
      "execution_count": null,
      "outputs": []
    },
    {
      "cell_type": "code",
      "source": [
        "with open(\"../input/pakistan-intellectual-capital/pakistan_intellectual_capital.csv\", 'rb') as rawdata:\n",
        "    result = charset_normalizer.detect(rawdata.read(1000000))\n",
        "print(result)"
      ],
      "metadata": {
        "execution": {
          "iopub.status.busy": "2024-09-09T15:25:34.526238Z",
          "iopub.execute_input": "2024-09-09T15:25:34.527366Z",
          "iopub.status.idle": "2024-09-09T15:25:34.544027Z",
          "shell.execute_reply.started": "2024-09-09T15:25:34.527306Z",
          "shell.execute_reply": "2024-09-09T15:25:34.542732Z"
        },
        "trusted": true,
        "id": "mrRwamfMcnAo",
        "outputId": "466e3acf-0f21-4693-9276-dc5d0bf4f4f4"
      },
      "execution_count": null,
      "outputs": [
        {
          "name": "stdout",
          "text": "{'encoding': 'utf-8', 'language': 'English', 'confidence': 1.0}\n",
          "output_type": "stream"
        }
      ]
    },
    {
      "cell_type": "code",
      "source": [
        "# read in all our data\n",
        "professors = pd.read_csv(\"../input/pakistan-intellectual-capital/pakistan_intellectual_capital.csv\", encoding = 'utf-8')\n",
        "\n",
        "# set seed for reproducibility\n",
        "np.random.seed(0)"
      ],
      "metadata": {
        "execution": {
          "iopub.status.busy": "2024-09-09T15:25:34.546275Z",
          "iopub.execute_input": "2024-09-09T15:25:34.547086Z",
          "iopub.status.idle": "2024-09-09T15:25:34.566232Z",
          "shell.execute_reply.started": "2024-09-09T15:25:34.547029Z",
          "shell.execute_reply": "2024-09-09T15:25:34.564854Z"
        },
        "trusted": true,
        "id": "-NOmMP5TcnAp"
      },
      "execution_count": null,
      "outputs": []
    },
    {
      "cell_type": "markdown",
      "source": [
        "Next, we'll redo all of the work that we did in the tutorial."
      ],
      "metadata": {
        "id": "BUOzmyjqcnAp"
      }
    },
    {
      "cell_type": "code",
      "source": [
        "# convert to lower case\n",
        "professors['Country'] = professors['Country'].str.lower()\n",
        "# remove trailing white spaces\n",
        "professors['Country'] = professors['Country'].str.strip()\n",
        "\n",
        "# get the top 10 closest matches to \"south korea\"\n",
        "countries = professors['Country'].unique()\n",
        "matches = fuzzywuzzy.process.extract(\"south korea\", countries, limit=10, scorer=fuzzywuzzy.fuzz.token_sort_ratio)\n",
        "print(matches)\n",
        "def replace_matches_in_column(df, column, string_to_match, min_ratio = 47):\n",
        "   column_to_match = df[column].unique()\n",
        "\n",
        "   matches = fuzzywuzzy.process.extract(string_to_match, column_to_match, limit = 10, scorer = fuzzywuzzy.fuzz.token_sort_ratio)\n",
        "   print(string_to_match,matches)\n",
        "   # filter matches:\n",
        "   matches_name = [match[0] for match in matches if match[1] >= min_ratio]\n",
        "\n",
        "   # find name meet condition\n",
        "   mask_cond = df[column].isin(matches_name)\n",
        "\n",
        "   # replace string to match\n",
        "   df.loc[mask_cond, column] = string_to_match\n",
        "   print\n",
        "\n",
        "replace_matches_in_column(df=professors, column='Country', string_to_match=\"south korea\")\n",
        "countries = professors['Country'].unique()"
      ],
      "metadata": {
        "execution": {
          "iopub.status.busy": "2024-09-09T15:25:34.569635Z",
          "iopub.execute_input": "2024-09-09T15:25:34.570731Z",
          "iopub.status.idle": "2024-09-09T15:25:34.592587Z",
          "shell.execute_reply.started": "2024-09-09T15:25:34.570657Z",
          "shell.execute_reply": "2024-09-09T15:25:34.591057Z"
        },
        "trusted": true,
        "id": "zTm2YnlGcnAp",
        "outputId": "a2682c97-a061-4c9e-8ef4-8958f079c835"
      },
      "execution_count": null,
      "outputs": [
        {
          "name": "stdout",
          "text": "[('south korea', 100), ('southkorea', 48), ('saudi arabia', 43), ('norway', 35), ('ireland', 33), ('portugal', 32), ('singapore', 30), ('netherland', 29), ('usofa', 25), ('macau', 25)]\nsouth korea [('south korea', 100), ('southkorea', 48), ('saudi arabia', 43), ('norway', 35), ('ireland', 33), ('portugal', 32), ('singapore', 30), ('netherland', 29), ('usofa', 25), ('macau', 25)]\n",
          "output_type": "stream"
        }
      ]
    },
    {
      "cell_type": "markdown",
      "source": [
        "# 1) Examine another column\n",
        "\n",
        "Write code below to take a look at all the unique values in the \"Graduated from\" column."
      ],
      "metadata": {
        "id": "aX_gUS7CcnAq"
      }
    },
    {
      "cell_type": "code",
      "source": [
        "professors.head()"
      ],
      "metadata": {
        "execution": {
          "iopub.status.busy": "2024-09-09T15:25:34.594328Z",
          "iopub.execute_input": "2024-09-09T15:25:34.594797Z",
          "iopub.status.idle": "2024-09-09T15:25:34.625293Z",
          "shell.execute_reply.started": "2024-09-09T15:25:34.594742Z",
          "shell.execute_reply": "2024-09-09T15:25:34.623914Z"
        },
        "trusted": true,
        "id": "2LraoDDIcnAq",
        "outputId": "2f69f47d-6774-4579-fc8d-69ea6c9358ee"
      },
      "execution_count": null,
      "outputs": [
        {
          "execution_count": 417,
          "output_type": "execute_result",
          "data": {
            "text/plain": "   Unnamed: 0  S#         Teacher Name  \\\n0           2   3      Dr. Abdul Basit   \n1           4   5      Dr. Waheed Noor   \n2           5   6     Dr. Junaid Baber   \n3           6   7  Dr. Maheen Bakhtyar   \n4          24  25          Samina Azim   \n\n            University Currently Teaching             Department  \\\n0               University of Balochistan  Computer Science & IT   \n1               University of Balochistan  Computer Science & IT   \n2               University of Balochistan  Computer Science & IT   \n3               University of Balochistan  Computer Science & IT   \n4  Sardar Bahadur Khan Women's University       Computer Science   \n\n  Province University Located          Designation Terminal Degree  \\\n0                 Balochistan  Assistant Professor             PhD   \n1                 Balochistan  Assistant Professor             PhD   \n2                 Balochistan  Assistant Professor             PhD   \n3                 Balochistan  Assistant Professor             PhD   \n4                 Balochistan             Lecturer              BS   \n\n                                      Graduated from   Country    Year  \\\n0                      Asian Institute of Technology  thailand     NaN   \n1                      Asian Institute of Technology  thailand     NaN   \n2                      Asian Institute of Technology  thailand     NaN   \n3                      Asian Institute of Technology  thailand     NaN   \n4  Balochistan University of Information Technolo...  pakistan  2005.0   \n\n           Area of Specialization/Research Interests Other Information  \n0                        Software Engineering & DBMS               NaN  \n1                                               DBMS               NaN  \n2          Information processing, Multimedia mining               NaN  \n3  NLP, Information Retrieval, Question Answering...               NaN  \n4                      VLSI Electronics DLD Database               NaN  ",
            "text/html": "<div>\n<style scoped>\n    .dataframe tbody tr th:only-of-type {\n        vertical-align: middle;\n    }\n\n    .dataframe tbody tr th {\n        vertical-align: top;\n    }\n\n    .dataframe thead th {\n        text-align: right;\n    }\n</style>\n<table border=\"1\" class=\"dataframe\">\n  <thead>\n    <tr style=\"text-align: right;\">\n      <th></th>\n      <th>Unnamed: 0</th>\n      <th>S#</th>\n      <th>Teacher Name</th>\n      <th>University Currently Teaching</th>\n      <th>Department</th>\n      <th>Province University Located</th>\n      <th>Designation</th>\n      <th>Terminal Degree</th>\n      <th>Graduated from</th>\n      <th>Country</th>\n      <th>Year</th>\n      <th>Area of Specialization/Research Interests</th>\n      <th>Other Information</th>\n    </tr>\n  </thead>\n  <tbody>\n    <tr>\n      <th>0</th>\n      <td>2</td>\n      <td>3</td>\n      <td>Dr. Abdul Basit</td>\n      <td>University of Balochistan</td>\n      <td>Computer Science &amp; IT</td>\n      <td>Balochistan</td>\n      <td>Assistant Professor</td>\n      <td>PhD</td>\n      <td>Asian Institute of Technology</td>\n      <td>thailand</td>\n      <td>NaN</td>\n      <td>Software Engineering &amp; DBMS</td>\n      <td>NaN</td>\n    </tr>\n    <tr>\n      <th>1</th>\n      <td>4</td>\n      <td>5</td>\n      <td>Dr. Waheed Noor</td>\n      <td>University of Balochistan</td>\n      <td>Computer Science &amp; IT</td>\n      <td>Balochistan</td>\n      <td>Assistant Professor</td>\n      <td>PhD</td>\n      <td>Asian Institute of Technology</td>\n      <td>thailand</td>\n      <td>NaN</td>\n      <td>DBMS</td>\n      <td>NaN</td>\n    </tr>\n    <tr>\n      <th>2</th>\n      <td>5</td>\n      <td>6</td>\n      <td>Dr. Junaid Baber</td>\n      <td>University of Balochistan</td>\n      <td>Computer Science &amp; IT</td>\n      <td>Balochistan</td>\n      <td>Assistant Professor</td>\n      <td>PhD</td>\n      <td>Asian Institute of Technology</td>\n      <td>thailand</td>\n      <td>NaN</td>\n      <td>Information processing, Multimedia mining</td>\n      <td>NaN</td>\n    </tr>\n    <tr>\n      <th>3</th>\n      <td>6</td>\n      <td>7</td>\n      <td>Dr. Maheen Bakhtyar</td>\n      <td>University of Balochistan</td>\n      <td>Computer Science &amp; IT</td>\n      <td>Balochistan</td>\n      <td>Assistant Professor</td>\n      <td>PhD</td>\n      <td>Asian Institute of Technology</td>\n      <td>thailand</td>\n      <td>NaN</td>\n      <td>NLP, Information Retrieval, Question Answering...</td>\n      <td>NaN</td>\n    </tr>\n    <tr>\n      <th>4</th>\n      <td>24</td>\n      <td>25</td>\n      <td>Samina Azim</td>\n      <td>Sardar Bahadur Khan Women's University</td>\n      <td>Computer Science</td>\n      <td>Balochistan</td>\n      <td>Lecturer</td>\n      <td>BS</td>\n      <td>Balochistan University of Information Technolo...</td>\n      <td>pakistan</td>\n      <td>2005.0</td>\n      <td>VLSI Electronics DLD Database</td>\n      <td>NaN</td>\n    </tr>\n  </tbody>\n</table>\n</div>"
          },
          "metadata": {}
        }
      ]
    },
    {
      "cell_type": "code",
      "source": [
        "professors[\"Graduated from\"].unique()[0:5]"
      ],
      "metadata": {
        "execution": {
          "iopub.status.busy": "2024-09-09T15:25:34.627954Z",
          "iopub.execute_input": "2024-09-09T15:25:34.628412Z",
          "iopub.status.idle": "2024-09-09T15:25:34.638752Z",
          "shell.execute_reply.started": "2024-09-09T15:25:34.628368Z",
          "shell.execute_reply": "2024-09-09T15:25:34.637343Z"
        },
        "trusted": true,
        "id": "zd-v0AagcnAq",
        "outputId": "aef0641a-8858-488d-92b5-7d84bc815fbe"
      },
      "execution_count": null,
      "outputs": [
        {
          "execution_count": 418,
          "output_type": "execute_result",
          "data": {
            "text/plain": "array(['Asian Institute of Technology',\n       'Balochistan University of Information Technology, Engineering and Management Sciences',\n       'University of Balochistan',\n       \"Sardar Bahadur Khan Women's University\",\n       'SRH Hochschule Heidelberg'], dtype=object)"
          },
          "metadata": {}
        }
      ]
    },
    {
      "cell_type": "markdown",
      "source": [
        "Do you notice any inconsistencies in the data?  Can any of the inconsistencies in the data be fixed by removing white spaces at the beginning and end of cells?\n",
        "\n",
        "Once you have answered these questions, run the code cell below to get credit for your work."
      ],
      "metadata": {
        "id": "QfSF_VlhcnAq"
      }
    },
    {
      "cell_type": "code",
      "source": [
        "# Check your answer (Run this code cell to receive credit!)\n",
        "q1.check()"
      ],
      "metadata": {
        "execution": {
          "iopub.status.busy": "2024-09-09T15:25:34.64044Z",
          "iopub.execute_input": "2024-09-09T15:25:34.640887Z",
          "iopub.status.idle": "2024-09-09T15:25:34.655693Z",
          "shell.execute_reply.started": "2024-09-09T15:25:34.640846Z",
          "shell.execute_reply": "2024-09-09T15:25:34.654335Z"
        },
        "trusted": true,
        "id": "3ZICQhKMcnAq",
        "outputId": "381cd822-9957-4005-9445-15ac07b9ec7c"
      },
      "execution_count": null,
      "outputs": [
        {
          "output_type": "display_data",
          "data": {
            "text/plain": "<IPython.core.display.Javascript object>",
            "application/javascript": "parent.postMessage({\"jupyterEvent\": \"custom.exercise_interaction\", \"data\": {\"outcomeType\": 1, \"valueTowardsCompletion\": 0.3333333333333333, \"interactionType\": 1, \"questionType\": 4, \"questionId\": \"1_ExamineProvince\", \"learnToolsVersion\": \"0.3.4\", \"failureMessage\": \"\", \"exceptionClass\": \"\", \"trace\": \"\"}}, \"*\")"
          },
          "metadata": {}
        },
        {
          "output_type": "display_data",
          "data": {
            "text/plain": "Correct: \n\nThere are inconsistencies that can be fixed by removing white spaces at the beginning and end of cells.  For instance, \"University of Central Florida\" and \" University of Central Florida\" both appear in the column.",
            "text/markdown": "<span style=\"color:#33cc33\">Correct:</span> \n\nThere are inconsistencies that can be fixed by removing white spaces at the beginning and end of cells.  For instance, \"University of Central Florida\" and \" University of Central Florida\" both appear in the column."
          },
          "metadata": {}
        }
      ]
    },
    {
      "cell_type": "code",
      "source": [
        "# Line below will give you a hint\n",
        "#q1.hint()"
      ],
      "metadata": {
        "execution": {
          "iopub.status.busy": "2024-09-09T15:25:34.65743Z",
          "iopub.execute_input": "2024-09-09T15:25:34.658459Z",
          "iopub.status.idle": "2024-09-09T15:25:34.664282Z",
          "shell.execute_reply.started": "2024-09-09T15:25:34.658402Z",
          "shell.execute_reply": "2024-09-09T15:25:34.663114Z"
        },
        "trusted": true,
        "id": "hxnbwlsvcnAq"
      },
      "execution_count": null,
      "outputs": []
    },
    {
      "cell_type": "markdown",
      "source": [
        "# 2) Do some text pre-processing\n",
        "\n",
        "Convert every entry in the \"Graduated from\" column in the `professors` DataFrame to remove white spaces at the beginning and end of cells."
      ],
      "metadata": {
        "id": "idSKfGy2cnAq"
      }
    },
    {
      "cell_type": "code",
      "source": [
        "professors['Graduated from'].unique()[0:5]"
      ],
      "metadata": {
        "execution": {
          "iopub.status.busy": "2024-09-09T15:25:34.667282Z",
          "iopub.execute_input": "2024-09-09T15:25:34.668399Z",
          "iopub.status.idle": "2024-09-09T15:25:34.680641Z",
          "shell.execute_reply.started": "2024-09-09T15:25:34.668244Z",
          "shell.execute_reply": "2024-09-09T15:25:34.679204Z"
        },
        "trusted": true,
        "id": "OPkgx2F4cnAr",
        "outputId": "b159ed97-e216-4aa6-c350-c1c7f3ce0c7d"
      },
      "execution_count": null,
      "outputs": [
        {
          "execution_count": 421,
          "output_type": "execute_result",
          "data": {
            "text/plain": "array(['Asian Institute of Technology',\n       'Balochistan University of Information Technology, Engineering and Management Sciences',\n       'University of Balochistan',\n       \"Sardar Bahadur Khan Women's University\",\n       'SRH Hochschule Heidelberg'], dtype=object)"
          },
          "metadata": {}
        }
      ]
    },
    {
      "cell_type": "code",
      "source": [
        "professors['Graduated from'] = professors['Graduated from'].str.strip()\n",
        "# Check your answer\n",
        "q2.check()"
      ],
      "metadata": {
        "execution": {
          "iopub.status.busy": "2024-09-09T15:25:34.682519Z",
          "iopub.execute_input": "2024-09-09T15:25:34.683086Z",
          "iopub.status.idle": "2024-09-09T15:25:34.705005Z",
          "shell.execute_reply.started": "2024-09-09T15:25:34.683028Z",
          "shell.execute_reply": "2024-09-09T15:25:34.703514Z"
        },
        "trusted": true,
        "id": "qgBlbK0rcnAr",
        "outputId": "b852d39d-f2d4-486f-adea-2303e01ccb2e"
      },
      "execution_count": null,
      "outputs": [
        {
          "output_type": "display_data",
          "data": {
            "text/plain": "<IPython.core.display.Javascript object>",
            "application/javascript": "parent.postMessage({\"jupyterEvent\": \"custom.exercise_interaction\", \"data\": {\"outcomeType\": 1, \"valueTowardsCompletion\": 0.3333333333333333, \"interactionType\": 1, \"questionType\": 1, \"questionId\": \"2_TextProcessing\", \"learnToolsVersion\": \"0.3.4\", \"failureMessage\": \"\", \"exceptionClass\": \"\", \"trace\": \"\"}}, \"*\")"
          },
          "metadata": {}
        },
        {
          "output_type": "display_data",
          "data": {
            "text/plain": "Correct",
            "text/markdown": "<span style=\"color:#33cc33\">Correct</span>"
          },
          "metadata": {}
        }
      ]
    },
    {
      "cell_type": "code",
      "source": [
        "# Lines below will give you a hint or solution code\n",
        "# q2.hint()\n",
        "# q2.solution()"
      ],
      "metadata": {
        "execution": {
          "iopub.status.busy": "2024-09-09T15:25:34.706804Z",
          "iopub.execute_input": "2024-09-09T15:25:34.707349Z",
          "iopub.status.idle": "2024-09-09T15:25:34.714727Z",
          "shell.execute_reply.started": "2024-09-09T15:25:34.707289Z",
          "shell.execute_reply": "2024-09-09T15:25:34.713088Z"
        },
        "trusted": true,
        "id": "MTvRvihccnAr"
      },
      "execution_count": null,
      "outputs": []
    },
    {
      "cell_type": "markdown",
      "source": [
        "# 3) Continue working with countries\n",
        "\n",
        "In the tutorial, we focused on cleaning up inconsistencies in the \"Country\" column.  Run the code cell below to view the list of unique values that we ended with."
      ],
      "metadata": {
        "id": "dz8d1y9BcnAr"
      }
    },
    {
      "cell_type": "code",
      "source": [
        "# get all the unique values in the 'City' column\n",
        "countries = professors['Country'].unique()\n",
        "\n",
        "\n",
        "# sort them alphabetically and then take a closer look\n",
        "countries.sort()\n",
        "countries"
      ],
      "metadata": {
        "execution": {
          "iopub.status.busy": "2024-09-09T15:25:34.716488Z",
          "iopub.execute_input": "2024-09-09T15:25:34.717533Z",
          "iopub.status.idle": "2024-09-09T15:25:34.734186Z",
          "shell.execute_reply.started": "2024-09-09T15:25:34.717473Z",
          "shell.execute_reply": "2024-09-09T15:25:34.732574Z"
        },
        "trusted": true,
        "id": "GkplqDxkcnAr",
        "outputId": "4e404dcc-7945-4ce0-e580-be5280ae01b5"
      },
      "execution_count": null,
      "outputs": [
        {
          "execution_count": 424,
          "output_type": "execute_result",
          "data": {
            "text/plain": "array(['australia', 'austria', 'canada', 'china', 'finland', 'france',\n       'germany', 'greece', 'hongkong', 'ireland', 'italy', 'japan',\n       'macau', 'malaysia', 'mauritius', 'netherland', 'new zealand',\n       'norway', 'pakistan', 'portugal', 'russian federation',\n       'saudi arabia', 'scotland', 'singapore', 'south korea', 'spain',\n       'sweden', 'thailand', 'turkey', 'uk', 'urbana', 'usa', 'usofa'],\n      dtype=object)"
          },
          "metadata": {}
        }
      ]
    },
    {
      "cell_type": "markdown",
      "source": [
        "Take another look at the \"Country\" column and see if there's any more data cleaning we need to do.\n",
        "\n",
        "It looks like 'usa' and 'usofa' should be the same country.  Correct the \"Country\" column in the dataframe to replace 'usofa' with 'usa'.\n",
        "\n",
        "**Use the most recent version of the DataFrame (with the whitespaces at the beginning and end of cells removed) from question 2.**"
      ],
      "metadata": {
        "id": "S-jcGMVqcnAr"
      }
    },
    {
      "cell_type": "code",
      "source": [
        "matches = fuzzywuzzy.process.extract(\"usa\", countries, limit=10, scorer=fuzzywuzzy.fuzz.token_sort_ratio)\n",
        "matches"
      ],
      "metadata": {
        "execution": {
          "iopub.status.busy": "2024-09-09T15:25:34.736462Z",
          "iopub.execute_input": "2024-09-09T15:25:34.737387Z",
          "iopub.status.idle": "2024-09-09T15:25:34.753692Z",
          "shell.execute_reply.started": "2024-09-09T15:25:34.737324Z",
          "shell.execute_reply": "2024-09-09T15:25:34.752118Z"
        },
        "trusted": true,
        "id": "sqdAAttWcnAr",
        "outputId": "cffb3613-5fcc-40da-b500-34c51bddd4ba"
      },
      "execution_count": null,
      "outputs": [
        {
          "execution_count": 425,
          "output_type": "execute_result",
          "data": {
            "text/plain": "[('usa', 100),\n ('usofa', 75),\n ('austria', 60),\n ('australia', 50),\n ('spain', 50),\n ('urbana', 44),\n ('uk', 40),\n ('malaysia', 36),\n ('pakistan', 36),\n ('portugal', 36)]"
          },
          "metadata": {}
        }
      ]
    },
    {
      "cell_type": "code",
      "source": [
        "# valid_countries  = ['Australia', 'Canada', 'China', 'Finland', 'France',\n",
        "#                    'Germany', 'Greece', 'Hong Kong', 'Ireland', 'Italy', 'Japan',\n",
        "#                    'Macau', 'Malaysia', 'Mauritius', 'Netherlands', 'New Zealand',\n",
        "#                    'Norway', 'Pakistan', 'Portugal', 'Russian Federation',\n",
        "#                    'Saudi Arabia', 'Scotland', 'Singapore', 'South Korea', 'Spain',\n",
        "#                    'Sweden', 'Thailand', 'Turkey', 'UK', 'USA']\n",
        "#  ý tưởng tự động chạy 1 list hợp lệ các countries để check kh được , vì có khả năng 2 nước khác nhau nhưng độ fuzzy rất cao , làm replace sẽ nhầm, ví dụ như ireland-findland : 71, spain - japan : 60\n",
        "# nên mình phải tự check tay từng từ và set min_ratio để tối ưu hóa\n",
        "\n",
        "replace_matches_in_column(professors, \"Country\", \"usa\", min_ratio = 70)\n",
        "\n",
        "# Check your answer\n",
        "q3.check()"
      ],
      "metadata": {
        "execution": {
          "iopub.status.busy": "2024-09-09T15:25:34.757504Z",
          "iopub.execute_input": "2024-09-09T15:25:34.75804Z",
          "iopub.status.idle": "2024-09-09T15:25:34.77779Z",
          "shell.execute_reply.started": "2024-09-09T15:25:34.757989Z",
          "shell.execute_reply": "2024-09-09T15:25:34.77648Z"
        },
        "trusted": true,
        "id": "BZYbXcHicnAr",
        "outputId": "23b94b14-4c86-47d4-aad4-e9ca6777e9a1"
      },
      "execution_count": null,
      "outputs": [
        {
          "name": "stdout",
          "text": "usa [('usa', 100), ('usofa', 75), ('austria', 60), ('australia', 50), ('spain', 50), ('urbana', 44), ('uk', 40), ('pakistan', 36), ('malaysia', 36), ('portugal', 36)]\n",
          "output_type": "stream"
        },
        {
          "output_type": "display_data",
          "data": {
            "text/plain": "<IPython.core.display.Javascript object>",
            "application/javascript": "parent.postMessage({\"jupyterEvent\": \"custom.exercise_interaction\", \"data\": {\"outcomeType\": 1, \"valueTowardsCompletion\": 0.3333333333333333, \"interactionType\": 1, \"questionType\": 1, \"questionId\": \"3_WorkingWithCities\", \"learnToolsVersion\": \"0.3.4\", \"failureMessage\": \"\", \"exceptionClass\": \"\", \"trace\": \"\"}}, \"*\")"
          },
          "metadata": {}
        },
        {
          "output_type": "display_data",
          "data": {
            "text/plain": "Correct",
            "text/markdown": "<span style=\"color:#33cc33\">Correct</span>"
          },
          "metadata": {}
        }
      ]
    },
    {
      "cell_type": "code",
      "source": [
        "# Lines below will give you a hint or solution code\n",
        "# q3.hint()\n",
        "# q3.solution()"
      ],
      "metadata": {
        "execution": {
          "iopub.status.busy": "2024-09-09T15:25:34.780056Z",
          "iopub.execute_input": "2024-09-09T15:25:34.781227Z",
          "iopub.status.idle": "2024-09-09T15:25:34.790356Z",
          "shell.execute_reply.started": "2024-09-09T15:25:34.781161Z",
          "shell.execute_reply": "2024-09-09T15:25:34.789083Z"
        },
        "trusted": true,
        "id": "Mpje7oP7cnAs"
      },
      "execution_count": null,
      "outputs": []
    },
    {
      "cell_type": "markdown",
      "source": [
        "# Congratulations!\n",
        "\n",
        "Congratulations for completing the **Data Cleaning** course on Kaggle Learn!\n",
        "\n",
        "To practice your new skills, you're encouraged to download and investigate some of [Kaggle's Datasets](https://www.kaggle.com/datasets)."
      ],
      "metadata": {
        "id": "PViyQ5avcnAs"
      }
    },
    {
      "cell_type": "markdown",
      "source": [
        "---\n",
        "\n",
        "\n",
        "\n",
        "\n",
        "*Have questions or comments? Visit the [course discussion forum](https://www.kaggle.com/learn/data-cleaning/discussion) to chat with other learners.*"
      ],
      "metadata": {
        "id": "xZozBVoecnAs"
      }
    }
  ]
}