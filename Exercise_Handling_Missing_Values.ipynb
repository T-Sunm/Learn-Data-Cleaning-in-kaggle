{
  "metadata": {
    "kernelspec": {
      "display_name": "Python 3",
      "language": "python",
      "name": "python3"
    },
    "language_info": {
      "name": "python",
      "version": "3.10.14",
      "mimetype": "text/x-python",
      "codemirror_mode": {
        "name": "ipython",
        "version": 3
      },
      "pygments_lexer": "ipython3",
      "nbconvert_exporter": "python",
      "file_extension": ".py"
    },
    "kaggle": {
      "accelerator": "none",
      "dataSources": [
        {
          "sourceId": 21688,
          "sourceType": "datasetVersion",
          "datasetId": 16432
        }
      ],
      "isInternetEnabled": false,
      "language": "python",
      "sourceType": "notebook",
      "isGpuEnabled": false
    },
    "colab": {
      "name": "Exercise: Handling Missing Values",
      "provenance": [],
      "include_colab_link": true
    }
  },
  "nbformat_minor": 0,
  "nbformat": 4,
  "cells": [
    {
      "cell_type": "markdown",
      "metadata": {
        "id": "view-in-github",
        "colab_type": "text"
      },
      "source": [
        "<a href=\"https://colab.research.google.com/github/T-Sunm/Learn-Data-Cleaning-in-kaggle/blob/main/Exercise_Handling_Missing_Values.ipynb\" target=\"_parent\"><img src=\"https://colab.research.google.com/assets/colab-badge.svg\" alt=\"Open In Colab\"/></a>"
      ]
    },
    {
      "source": [
        "\n",
        "# IMPORTANT: RUN THIS CELL IN ORDER TO IMPORT YOUR KAGGLE DATA SOURCES\n",
        "# TO THE CORRECT LOCATION (/kaggle/input) IN YOUR NOTEBOOK,\n",
        "# THEN FEEL FREE TO DELETE THIS CELL.\n",
        "# NOTE: THIS NOTEBOOK ENVIRONMENT DIFFERS FROM KAGGLE'S PYTHON\n",
        "# ENVIRONMENT SO THERE MAY BE MISSING LIBRARIES USED BY YOUR\n",
        "# NOTEBOOK.\n",
        "\n",
        "import os\n",
        "import sys\n",
        "from tempfile import NamedTemporaryFile\n",
        "from urllib.request import urlopen\n",
        "from urllib.parse import unquote, urlparse\n",
        "from urllib.error import HTTPError\n",
        "from zipfile import ZipFile\n",
        "import tarfile\n",
        "import shutil\n",
        "\n",
        "CHUNK_SIZE = 40960\n",
        "DATA_SOURCE_MAPPING = 'building-permit-applications-data:https%3A%2F%2Fstorage.googleapis.com%2Fkaggle-data-sets%2F16432%2F21688%2Fbundle%2Farchive.zip%3FX-Goog-Algorithm%3DGOOG4-RSA-SHA256%26X-Goog-Credential%3Dgcp-kaggle-com%2540kaggle-161607.iam.gserviceaccount.com%252F20240825%252Fauto%252Fstorage%252Fgoog4_request%26X-Goog-Date%3D20240825T165128Z%26X-Goog-Expires%3D259200%26X-Goog-SignedHeaders%3Dhost%26X-Goog-Signature%3Dc0c874c48f7bea623549740da1ae3568fd75dfb3106414f1b4f2a26deb3bc3b81920d4d3cee5f4cc9bd48409d82ebc5b892ae15319640828651b967eff31613a565c4434af16f5fd87ba762ed1d822abf1cb29d091fadcda8f2b93754fd2b1afc39d7d9e1b10d2e7723844cb1f579d757f96db573995f76e0e3ab75a81ea151adec34e5c6fbc5d7a49f600b1f6454a707b7fd676fc8064f3055d00cdd95144a7c67e5d6ea2c555e84e76ad1d0de0b2be01c1ef4d5940c0d50b9d94016f014634f10334e25c6d5e3e35f1ca75d4b57068385e81ad03d5656c9cb4e79db7f0f45519eff47cdbb470fcc75f60b3fbbeb8b0deb7e00fced08612185166bd9374c03c'\n",
        "\n",
        "KAGGLE_INPUT_PATH='/kaggle/input'\n",
        "KAGGLE_WORKING_PATH='/kaggle/working'\n",
        "KAGGLE_SYMLINK='kaggle'\n",
        "\n",
        "!umount /kaggle/input/ 2> /dev/null\n",
        "shutil.rmtree('/kaggle/input', ignore_errors=True)\n",
        "os.makedirs(KAGGLE_INPUT_PATH, 0o777, exist_ok=True)\n",
        "os.makedirs(KAGGLE_WORKING_PATH, 0o777, exist_ok=True)\n",
        "\n",
        "try:\n",
        "  os.symlink(KAGGLE_INPUT_PATH, os.path.join(\"..\", 'input'), target_is_directory=True)\n",
        "except FileExistsError:\n",
        "  pass\n",
        "try:\n",
        "  os.symlink(KAGGLE_WORKING_PATH, os.path.join(\"..\", 'working'), target_is_directory=True)\n",
        "except FileExistsError:\n",
        "  pass\n",
        "\n",
        "for data_source_mapping in DATA_SOURCE_MAPPING.split(','):\n",
        "    directory, download_url_encoded = data_source_mapping.split(':')\n",
        "    download_url = unquote(download_url_encoded)\n",
        "    filename = urlparse(download_url).path\n",
        "    destination_path = os.path.join(KAGGLE_INPUT_PATH, directory)\n",
        "    try:\n",
        "        with urlopen(download_url) as fileres, NamedTemporaryFile() as tfile:\n",
        "            total_length = fileres.headers['content-length']\n",
        "            print(f'Downloading {directory}, {total_length} bytes compressed')\n",
        "            dl = 0\n",
        "            data = fileres.read(CHUNK_SIZE)\n",
        "            while len(data) > 0:\n",
        "                dl += len(data)\n",
        "                tfile.write(data)\n",
        "                done = int(50 * dl / int(total_length))\n",
        "                sys.stdout.write(f\"\\r[{'=' * done}{' ' * (50-done)}] {dl} bytes downloaded\")\n",
        "                sys.stdout.flush()\n",
        "                data = fileres.read(CHUNK_SIZE)\n",
        "            if filename.endswith('.zip'):\n",
        "              with ZipFile(tfile) as zfile:\n",
        "                zfile.extractall(destination_path)\n",
        "            else:\n",
        "              with tarfile.open(tfile.name) as tarfile:\n",
        "                tarfile.extractall(destination_path)\n",
        "            print(f'\\nDownloaded and uncompressed: {directory}')\n",
        "    except HTTPError as e:\n",
        "        print(f'Failed to load (likely expired) {download_url} to path {destination_path}')\n",
        "        continue\n",
        "    except OSError as e:\n",
        "        print(f'Failed to load {download_url} to path {destination_path}')\n",
        "        continue\n",
        "\n",
        "print('Data source import complete.')\n"
      ],
      "metadata": {
        "id": "RMN-saNJcnEw"
      },
      "cell_type": "code",
      "outputs": [],
      "execution_count": null
    },
    {
      "cell_type": "markdown",
      "source": [
        "**This notebook is an exercise in the [Data Cleaning](https://www.kaggle.com/learn/data-cleaning) course.  You can reference the tutorial at [this link](https://www.kaggle.com/alexisbcook/handling-missing-values).**\n",
        "\n",
        "---\n"
      ],
      "metadata": {
        "id": "lnRFWAtNcnEy"
      }
    },
    {
      "cell_type": "markdown",
      "source": [
        "In this exercise, you'll apply what you learned in the **Handling missing values** tutorial.\n",
        "\n",
        "# Setup\n",
        "\n",
        "The questions below will give you feedback on your work. Run the following cell to set up the feedback system."
      ],
      "metadata": {
        "id": "qAW1yRCKcnEz"
      }
    },
    {
      "cell_type": "code",
      "source": [
        "from learntools.core import binder\n",
        "binder.bind(globals())\n",
        "from learntools.data_cleaning.ex1 import *\n",
        "print(\"Setup Complete\")"
      ],
      "metadata": {
        "execution": {
          "iopub.status.busy": "2024-08-25T16:01:17.874435Z",
          "iopub.execute_input": "2024-08-25T16:01:17.874906Z",
          "iopub.status.idle": "2024-08-25T16:01:26.662179Z",
          "shell.execute_reply.started": "2024-08-25T16:01:17.874859Z",
          "shell.execute_reply": "2024-08-25T16:01:26.660912Z"
        },
        "trusted": true,
        "id": "nUWtlX7ycnEz"
      },
      "execution_count": null,
      "outputs": []
    },
    {
      "cell_type": "markdown",
      "source": [
        "# 1) Take a first look at the data\n",
        "\n",
        "Run the next code cell to load in the libraries and dataset you'll use to complete the exercise."
      ],
      "metadata": {
        "id": "l5POJtVIcnEz"
      }
    },
    {
      "cell_type": "code",
      "source": [
        "# modules we'll use\n",
        "import pandas as pd\n",
        "import numpy as np\n",
        "\n",
        "# read in all our data\n",
        "sf_permits = pd.read_csv(\"../input/building-permit-applications-data/Building_Permits.csv\")\n",
        "\n",
        "# set seed for reproducibility\n",
        "np.random.seed(0)"
      ],
      "metadata": {
        "execution": {
          "iopub.status.busy": "2024-08-25T16:01:26.664548Z",
          "iopub.execute_input": "2024-08-25T16:01:26.665094Z",
          "iopub.status.idle": "2024-08-25T16:01:29.010163Z",
          "shell.execute_reply.started": "2024-08-25T16:01:26.665041Z",
          "shell.execute_reply": "2024-08-25T16:01:29.00896Z"
        },
        "trusted": true,
        "id": "OAuGWpn_cnE0"
      },
      "execution_count": null,
      "outputs": []
    },
    {
      "cell_type": "markdown",
      "source": [
        "Use the code cell below to print the first five rows of the `sf_permits` DataFrame."
      ],
      "metadata": {
        "id": "sBJUZ_G1cnE0"
      }
    },
    {
      "cell_type": "code",
      "source": [
        "sf_permits.head()\n"
      ],
      "metadata": {
        "execution": {
          "iopub.status.busy": "2024-08-25T16:01:42.120624Z",
          "iopub.execute_input": "2024-08-25T16:01:42.121206Z",
          "iopub.status.idle": "2024-08-25T16:01:42.164701Z",
          "shell.execute_reply.started": "2024-08-25T16:01:42.12115Z",
          "shell.execute_reply": "2024-08-25T16:01:42.163373Z"
        },
        "trusted": true,
        "id": "us_9Hb_QcnE0"
      },
      "execution_count": null,
      "outputs": []
    },
    {
      "cell_type": "markdown",
      "source": [
        "Does the dataset have any missing values?  Once you have an answer, run the code cell below to get credit for your work."
      ],
      "metadata": {
        "id": "sgJMKRNScnE0"
      }
    },
    {
      "cell_type": "code",
      "source": [
        "# Check your answer (Run this code cell to receive credit!)\n",
        "q1.check()"
      ],
      "metadata": {
        "execution": {
          "iopub.status.busy": "2024-08-25T16:01:58.909438Z",
          "iopub.execute_input": "2024-08-25T16:01:58.909919Z",
          "iopub.status.idle": "2024-08-25T16:01:58.920318Z",
          "shell.execute_reply.started": "2024-08-25T16:01:58.909874Z",
          "shell.execute_reply": "2024-08-25T16:01:58.919205Z"
        },
        "trusted": true,
        "id": "YThSZh4NcnE1"
      },
      "execution_count": null,
      "outputs": []
    },
    {
      "cell_type": "code",
      "source": [
        "# Line below will give you a hint\n",
        "#q1.hint()"
      ],
      "metadata": {
        "id": "fElZkBQHcnE1"
      },
      "execution_count": null,
      "outputs": []
    },
    {
      "cell_type": "markdown",
      "source": [
        "# 2) How many missing data points do we have?\n",
        "\n",
        "What percentage of the values in the dataset are missing?  Your answer should be a number between 0 and 100.  (If 1/4 of the values in the dataset are missing, the answer is 25.)"
      ],
      "metadata": {
        "id": "i3zgtlUWcnE1"
      }
    },
    {
      "cell_type": "code",
      "source": [
        "sf_permits.isnull().sum().sum()"
      ],
      "metadata": {
        "execution": {
          "iopub.status.busy": "2024-08-25T16:09:21.654152Z",
          "iopub.execute_input": "2024-08-25T16:09:21.654573Z",
          "iopub.status.idle": "2024-08-25T16:09:22.150897Z",
          "shell.execute_reply.started": "2024-08-25T16:09:21.654533Z",
          "shell.execute_reply": "2024-08-25T16:09:22.149759Z"
        },
        "trusted": true,
        "id": "_B7S5ibWcnE1"
      },
      "execution_count": null,
      "outputs": []
    },
    {
      "cell_type": "code",
      "source": [
        "# TODO: Your code here!\n",
        "percent_missing = sf_permits.isnull().sum().sum() / np.product(sf_permits.shape) * 100\n",
        "\n",
        "# Check your answer\n",
        "q2.check()"
      ],
      "metadata": {
        "execution": {
          "iopub.status.busy": "2024-08-25T16:10:44.683116Z",
          "iopub.execute_input": "2024-08-25T16:10:44.683615Z",
          "iopub.status.idle": "2024-08-25T16:10:45.26153Z",
          "shell.execute_reply.started": "2024-08-25T16:10:44.683569Z",
          "shell.execute_reply": "2024-08-25T16:10:45.259993Z"
        },
        "trusted": true,
        "id": "Njztdmp9cnE1"
      },
      "execution_count": null,
      "outputs": []
    },
    {
      "cell_type": "code",
      "source": [
        "# Lines below will give you a hint or solution code\n",
        "#q2.hint()\n",
        "#q2.solution()"
      ],
      "metadata": {
        "id": "5jEsNzBCcnE1"
      },
      "execution_count": null,
      "outputs": []
    },
    {
      "cell_type": "markdown",
      "source": [
        "# 3) Figure out why the data is missing\n",
        "\n",
        "Look at the columns **\"Street Number Suffix\"** and **\"Zipcode\"** from the [San Francisco Building Permits dataset](https://www.kaggle.com/aparnashastry/building-permit-applications-data). Both of these contain missing values.\n",
        "- Which, if either, are missing because they don't exist?\n",
        "- Which, if either, are missing because they weren't recorded?  \n",
        "\n",
        "Once you have an answer, run the code cell below."
      ],
      "metadata": {
        "id": "EsoijI1EcnE1"
      }
    },
    {
      "cell_type": "markdown",
      "source": [
        "- Street Number Suffix\n",
        "- Zipcode"
      ],
      "metadata": {
        "id": "Gh3kDUbOcnE1"
      }
    },
    {
      "cell_type": "code",
      "source": [
        "# Check your answer (Run this code cell to receive credit!)\n",
        "q3.check()"
      ],
      "metadata": {
        "execution": {
          "iopub.status.busy": "2024-08-25T16:19:14.107523Z",
          "iopub.execute_input": "2024-08-25T16:19:14.10803Z",
          "iopub.status.idle": "2024-08-25T16:19:14.119677Z",
          "shell.execute_reply.started": "2024-08-25T16:19:14.107977Z",
          "shell.execute_reply": "2024-08-25T16:19:14.118354Z"
        },
        "trusted": true,
        "id": "lv4LmeVncnE1"
      },
      "execution_count": null,
      "outputs": []
    },
    {
      "cell_type": "code",
      "source": [
        "# Line below will give you a hint\n",
        "#q3.hint()"
      ],
      "metadata": {
        "id": "Ryu8GT_icnE2"
      },
      "execution_count": null,
      "outputs": []
    },
    {
      "cell_type": "markdown",
      "source": [
        "# 4) Drop missing values: rows\n",
        "\n",
        "If you removed all of the rows of `sf_permits` with missing values, how many rows are left?\n",
        "\n",
        "**Note**: Do not change the value of `sf_permits` when checking this.  "
      ],
      "metadata": {
        "id": "dtmqIVDZcnE2"
      }
    },
    {
      "cell_type": "code",
      "source": [
        "sf_permits.dropna()\n"
      ],
      "metadata": {
        "execution": {
          "iopub.status.busy": "2024-08-25T16:24:16.325491Z",
          "iopub.execute_input": "2024-08-25T16:24:16.326285Z",
          "iopub.status.idle": "2024-08-25T16:24:16.825526Z",
          "shell.execute_reply.started": "2024-08-25T16:24:16.326239Z",
          "shell.execute_reply": "2024-08-25T16:24:16.824326Z"
        },
        "trusted": true,
        "id": "fEZ3ZfvzcnE2"
      },
      "execution_count": null,
      "outputs": []
    },
    {
      "cell_type": "markdown",
      "source": [
        "Once you have an answer, run the code cell below."
      ],
      "metadata": {
        "id": "4IqJf8SWcnE2"
      }
    },
    {
      "cell_type": "code",
      "source": [
        "# Check your answer (Run this code cell to receive credit!)\n",
        "q4.check()"
      ],
      "metadata": {
        "execution": {
          "iopub.status.busy": "2024-08-25T16:24:27.857874Z",
          "iopub.execute_input": "2024-08-25T16:24:27.858319Z",
          "iopub.status.idle": "2024-08-25T16:24:27.868024Z",
          "shell.execute_reply.started": "2024-08-25T16:24:27.858273Z",
          "shell.execute_reply": "2024-08-25T16:24:27.866857Z"
        },
        "trusted": true,
        "id": "ObNWEdEEcnE2"
      },
      "execution_count": null,
      "outputs": []
    },
    {
      "cell_type": "code",
      "source": [
        "# Line below will give you a hint\n",
        "#q4.hint()"
      ],
      "metadata": {
        "id": "1m1KRwpucnE2"
      },
      "execution_count": null,
      "outputs": []
    },
    {
      "cell_type": "markdown",
      "source": [
        "# 5) Drop missing values: columns\n",
        "\n",
        "Now try removing all the columns with empty values.  \n",
        "- Create a new DataFrame called `sf_permits_with_na_dropped` that has all of the columns with empty values removed.  \n",
        "- How many columns were removed from the original `sf_permits` DataFrame? Use this number to set the value of the `dropped_columns` variable below."
      ],
      "metadata": {
        "id": "MTnMKiXlcnE2"
      }
    },
    {
      "cell_type": "code",
      "source": [
        "permit_c_col = sf_permits.isnull().sum()\n",
        "name_permit_null = permit_c_col[permit_c_col  0]\n",
        "name_permit_null.index.to_list()"
      ],
      "metadata": {
        "execution": {
          "iopub.status.busy": "2024-08-25T16:40:44.525092Z",
          "iopub.execute_input": "2024-08-25T16:40:44.526346Z",
          "iopub.status.idle": "2024-08-25T16:40:45.037093Z",
          "shell.execute_reply.started": "2024-08-25T16:40:44.526266Z",
          "shell.execute_reply": "2024-08-25T16:40:45.036016Z"
        },
        "trusted": true,
        "id": "DSGfqMDfcnE2"
      },
      "execution_count": null,
      "outputs": []
    },
    {
      "cell_type": "code",
      "source": [
        "permit_c_col = sf_permits.isnull().sum()\n",
        "name_permit_null = permit_c_col[permit_c_col == 0].index\n",
        "# TODO: Your code here\n",
        "sf_permits_with_na_dropped = sf_permits[name_permit_null]\n",
        "\n",
        "dropped_columns = sf_permits.columns.shape[0] - sf_permits.dropna(axis = 1).columns.shape[0]\n",
        "\n",
        "# Check your answer\n",
        "q5.check()"
      ],
      "metadata": {
        "execution": {
          "iopub.status.busy": "2024-08-25T16:42:30.582326Z",
          "iopub.execute_input": "2024-08-25T16:42:30.583646Z",
          "iopub.status.idle": "2024-08-25T16:42:31.732562Z",
          "shell.execute_reply.started": "2024-08-25T16:42:30.583592Z",
          "shell.execute_reply": "2024-08-25T16:42:31.731058Z"
        },
        "trusted": true,
        "id": "d3E9iOOocnE2"
      },
      "execution_count": null,
      "outputs": []
    },
    {
      "cell_type": "code",
      "source": [
        "# Lines below will give you a hint or solution code\n",
        "#q5.hint()\n",
        "#q5.solution()"
      ],
      "metadata": {
        "id": "7JMz55l2cnE2"
      },
      "execution_count": null,
      "outputs": []
    },
    {
      "cell_type": "markdown",
      "source": [
        "# 6) Fill in missing values automatically\n",
        "\n",
        "Try replacing all the NaN's in the `sf_permits` data with the one that comes directly after it and then replacing any remaining NaN's with 0.  Set the result to a new DataFrame `sf_permits_with_na_imputed`."
      ],
      "metadata": {
        "id": "9_L09seScnE2"
      }
    },
    {
      "cell_type": "code",
      "source": [
        "# TODO: Your code here\n",
        "sf_permits_with_na_imputed = sf_permits.fillna(method = 'bfill', axis = 0).fillna(0)\n",
        "\n",
        "# Check your answer\n",
        "q6.check()"
      ],
      "metadata": {
        "execution": {
          "iopub.status.busy": "2024-08-25T16:44:46.797642Z",
          "iopub.execute_input": "2024-08-25T16:44:46.79813Z",
          "iopub.status.idle": "2024-08-25T16:44:49.799536Z",
          "shell.execute_reply.started": "2024-08-25T16:44:46.798087Z",
          "shell.execute_reply": "2024-08-25T16:44:49.7985Z"
        },
        "trusted": true,
        "id": "DYANQED1cnE2"
      },
      "execution_count": null,
      "outputs": []
    },
    {
      "cell_type": "code",
      "source": [
        "# Lines below will give you a hint or solution code\n",
        "#q6.hint()\n",
        "#q6.solution()"
      ],
      "metadata": {
        "id": "B7CRHodlcnE3"
      },
      "execution_count": null,
      "outputs": []
    },
    {
      "cell_type": "markdown",
      "source": [
        "# More practice\n",
        "\n",
        "If you're looking for more practice handling missing values:\n",
        "\n",
        "* Check out [this noteboook](https://www.kaggle.com/alexisbcook/missing-values) on handling missing values using scikit-learn's imputer.\n",
        "* Look back at the \"Zipcode\" column in the `sf_permits` dataset, which has some missing values. How would you go about figuring out what the actual zipcode of each address should be? (You might try using another dataset. You can search for datasets about San Fransisco on the [Datasets listing](https://www.kaggle.com/datasets).)\n",
        "\n",
        "# Keep going\n",
        "\n",
        "In the next lesson, learn how to [**apply scaling and normalization**](https://www.kaggle.com/alexisbcook/scaling-and-normalization) to transform your data."
      ],
      "metadata": {
        "id": "742elEfwcnE3"
      }
    },
    {
      "cell_type": "markdown",
      "source": [
        "---\n",
        "\n",
        "\n",
        "\n",
        "\n",
        "*Have questions or comments? Visit the [course discussion forum](https://www.kaggle.com/learn/data-cleaning/discussion) to chat with other learners.*"
      ],
      "metadata": {
        "id": "Ubeym8D3cnE3"
      }
    }
  ]
}