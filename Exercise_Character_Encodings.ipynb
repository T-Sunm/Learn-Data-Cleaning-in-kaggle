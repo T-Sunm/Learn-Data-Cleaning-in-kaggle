{
  "metadata": {
    "kernelspec": {
      "display_name": "Python 3",
      "language": "python",
      "name": "python3"
    },
    "language_info": {
      "name": "python",
      "version": "3.10.14",
      "mimetype": "text/x-python",
      "codemirror_mode": {
        "name": "ipython",
        "version": 3
      },
      "pygments_lexer": "ipython3",
      "nbconvert_exporter": "python",
      "file_extension": ".py"
    },
    "kaggle": {
      "accelerator": "none",
      "dataSources": [
        {
          "sourceId": 4395,
          "sourceType": "datasetVersion",
          "datasetId": 2647
        }
      ],
      "isInternetEnabled": false,
      "language": "python",
      "sourceType": "notebook",
      "isGpuEnabled": false
    },
    "colab": {
      "name": "Exercise: Character Encodings",
      "provenance": [],
      "include_colab_link": true
    }
  },
  "nbformat_minor": 0,
  "nbformat": 4,
  "cells": [
    {
      "cell_type": "markdown",
      "metadata": {
        "id": "view-in-github",
        "colab_type": "text"
      },
      "source": [
        "<a href=\"https://colab.research.google.com/github/T-Sunm/Learn-Data-Cleaning-in-kaggle/blob/main/Exercise_Character_Encodings.ipynb\" target=\"_parent\"><img src=\"https://colab.research.google.com/assets/colab-badge.svg\" alt=\"Open In Colab\"/></a>"
      ]
    },
    {
      "source": [
        "\n",
        "# IMPORTANT: RUN THIS CELL IN ORDER TO IMPORT YOUR KAGGLE DATA SOURCES\n",
        "# TO THE CORRECT LOCATION (/kaggle/input) IN YOUR NOTEBOOK,\n",
        "# THEN FEEL FREE TO DELETE THIS CELL.\n",
        "# NOTE: THIS NOTEBOOK ENVIRONMENT DIFFERS FROM KAGGLE'S PYTHON\n",
        "# ENVIRONMENT SO THERE MAY BE MISSING LIBRARIES USED BY YOUR\n",
        "# NOTEBOOK.\n",
        "\n",
        "import os\n",
        "import sys\n",
        "from tempfile import NamedTemporaryFile\n",
        "from urllib.request import urlopen\n",
        "from urllib.parse import unquote, urlparse\n",
        "from urllib.error import HTTPError\n",
        "from zipfile import ZipFile\n",
        "import tarfile\n",
        "import shutil\n",
        "\n",
        "CHUNK_SIZE = 40960\n",
        "DATA_SOURCE_MAPPING = 'fatal-police-shootings-in-the-us:https%3A%2F%2Fstorage.googleapis.com%2Fkaggle-data-sets%2F2647%2F4395%2Fbundle%2Farchive.zip%3FX-Goog-Algorithm%3DGOOG4-RSA-SHA256%26X-Goog-Credential%3Dgcp-kaggle-com%2540kaggle-161607.iam.gserviceaccount.com%252F20240909%252Fauto%252Fstorage%252Fgoog4_request%26X-Goog-Date%3D20240909T153452Z%26X-Goog-Expires%3D259200%26X-Goog-SignedHeaders%3Dhost%26X-Goog-Signature%3D4f852067ec4ac0f32d1a1537110251c569a74467ca4ea49d948fbf885da72157ccd5202af3e122e5d4995b052c26660466f491b93b53582a14caed027bc166080aed9c2c0c3b588022505dd6ee7da359d4bffdc75556baf71e713ed122f9f292654ecc8524f07e1940585d503cf50b5cf16d8ab78949db6aca97e9b77d6a8b4776d17ed2cffd0558eb275e803dc3e09e743d7335c21f91068642f1f6414e2cbedbe7bd48482d8801bb8891c4c4fbcc4bd8e54ea8a6d8b6bb7bb187ff6664f9451a0f3f0dd4df93cd70db3890d03c0a5e32d1ac93ca01b6b4773b3c96391c812dee3187e811ccf633ef99fbdec9f29222f433a0d67b4da00a38e9ba657cd71747'\n",
        "\n",
        "KAGGLE_INPUT_PATH='/kaggle/input'\n",
        "KAGGLE_WORKING_PATH='/kaggle/working'\n",
        "KAGGLE_SYMLINK='kaggle'\n",
        "\n",
        "!umount /kaggle/input/ 2> /dev/null\n",
        "shutil.rmtree('/kaggle/input', ignore_errors=True)\n",
        "os.makedirs(KAGGLE_INPUT_PATH, 0o777, exist_ok=True)\n",
        "os.makedirs(KAGGLE_WORKING_PATH, 0o777, exist_ok=True)\n",
        "\n",
        "try:\n",
        "  os.symlink(KAGGLE_INPUT_PATH, os.path.join(\"..\", 'input'), target_is_directory=True)\n",
        "except FileExistsError:\n",
        "  pass\n",
        "try:\n",
        "  os.symlink(KAGGLE_WORKING_PATH, os.path.join(\"..\", 'working'), target_is_directory=True)\n",
        "except FileExistsError:\n",
        "  pass\n",
        "\n",
        "for data_source_mapping in DATA_SOURCE_MAPPING.split(','):\n",
        "    directory, download_url_encoded = data_source_mapping.split(':')\n",
        "    download_url = unquote(download_url_encoded)\n",
        "    filename = urlparse(download_url).path\n",
        "    destination_path = os.path.join(KAGGLE_INPUT_PATH, directory)\n",
        "    try:\n",
        "        with urlopen(download_url) as fileres, NamedTemporaryFile() as tfile:\n",
        "            total_length = fileres.headers['content-length']\n",
        "            print(f'Downloading {directory}, {total_length} bytes compressed')\n",
        "            dl = 0\n",
        "            data = fileres.read(CHUNK_SIZE)\n",
        "            while len(data) > 0:\n",
        "                dl += len(data)\n",
        "                tfile.write(data)\n",
        "                done = int(50 * dl / int(total_length))\n",
        "                sys.stdout.write(f\"\\r[{'=' * done}{' ' * (50-done)}] {dl} bytes downloaded\")\n",
        "                sys.stdout.flush()\n",
        "                data = fileres.read(CHUNK_SIZE)\n",
        "            if filename.endswith('.zip'):\n",
        "              with ZipFile(tfile) as zfile:\n",
        "                zfile.extractall(destination_path)\n",
        "            else:\n",
        "              with tarfile.open(tfile.name) as tarfile:\n",
        "                tarfile.extractall(destination_path)\n",
        "            print(f'\\nDownloaded and uncompressed: {directory}')\n",
        "    except HTTPError as e:\n",
        "        print(f'Failed to load (likely expired) {download_url} to path {destination_path}')\n",
        "        continue\n",
        "    except OSError as e:\n",
        "        print(f'Failed to load {download_url} to path {destination_path}')\n",
        "        continue\n",
        "\n",
        "print('Data source import complete.')\n"
      ],
      "metadata": {
        "id": "0u1kVkHabE0A"
      },
      "cell_type": "code",
      "outputs": [],
      "execution_count": null
    },
    {
      "cell_type": "markdown",
      "source": [
        "**This notebook is an exercise in the [Data Cleaning](https://www.kaggle.com/learn/data-cleaning) course.  You can reference the tutorial at [this link](https://www.kaggle.com/alexisbcook/character-encodings).**\n",
        "\n",
        "---\n"
      ],
      "metadata": {
        "id": "aG3q-Y7ebE0B"
      }
    },
    {
      "cell_type": "markdown",
      "source": [
        "In this exercise, you'll apply what you learned in the **Character encodings** tutorial.\n",
        "\n",
        "# Setup\n",
        "\n",
        "The questions below will give you feedback on your work. Run the following cell to set up the feedback system."
      ],
      "metadata": {
        "id": "jK4iKjAnbE0B"
      }
    },
    {
      "cell_type": "code",
      "source": [
        "from learntools.core import binder\n",
        "binder.bind(globals())\n",
        "from learntools.data_cleaning.ex4 import *\n",
        "print(\"Setup Complete\")"
      ],
      "metadata": {
        "execution": {
          "iopub.status.busy": "2024-09-09T04:37:12.960611Z",
          "iopub.execute_input": "2024-09-09T04:37:12.961525Z",
          "iopub.status.idle": "2024-09-09T04:37:13.551106Z",
          "shell.execute_reply.started": "2024-09-09T04:37:12.961477Z",
          "shell.execute_reply": "2024-09-09T04:37:13.549783Z"
        },
        "trusted": true,
        "id": "VFuAcPgRbE0B"
      },
      "execution_count": null,
      "outputs": []
    },
    {
      "cell_type": "markdown",
      "source": [
        "# Get our environment set up\n",
        "\n",
        "The first thing we'll need to do is load in the libraries we'll be using."
      ],
      "metadata": {
        "id": "sVqxuncybE0C"
      }
    },
    {
      "cell_type": "code",
      "source": [
        "# modules we'll use\n",
        "import pandas as pd\n",
        "import numpy as np\n",
        "\n",
        "# helpful character encoding module\n",
        "import charset_normalizer\n",
        "\n",
        "# set seed for reproducibility\n",
        "np.random.seed(0)"
      ],
      "metadata": {
        "execution": {
          "iopub.status.busy": "2024-09-09T04:37:13.553485Z",
          "iopub.execute_input": "2024-09-09T04:37:13.554033Z",
          "iopub.status.idle": "2024-09-09T04:37:13.56106Z",
          "shell.execute_reply.started": "2024-09-09T04:37:13.553965Z",
          "shell.execute_reply": "2024-09-09T04:37:13.559784Z"
        },
        "trusted": true,
        "id": "cAIEsITbbE0C"
      },
      "execution_count": null,
      "outputs": []
    },
    {
      "cell_type": "markdown",
      "source": [
        "# 1) What are encodings?\n",
        "\n",
        "You're working with a dataset composed of bytes.  Run the code cell below to print a sample entry."
      ],
      "metadata": {
        "id": "Wz7cjKtRbE0C"
      }
    },
    {
      "cell_type": "code",
      "source": [
        "sample_entry = b'\\xa7A\\xa6n'\n",
        "print(sample_entry)\n",
        "print('data type:', type(sample_entry))"
      ],
      "metadata": {
        "execution": {
          "iopub.status.busy": "2024-09-09T04:37:21.724418Z",
          "iopub.execute_input": "2024-09-09T04:37:21.725357Z",
          "iopub.status.idle": "2024-09-09T04:37:21.731778Z",
          "shell.execute_reply.started": "2024-09-09T04:37:21.725306Z",
          "shell.execute_reply": "2024-09-09T04:37:21.730495Z"
        },
        "trusted": true,
        "id": "mdyNch0ZbE0C"
      },
      "execution_count": null,
      "outputs": []
    },
    {
      "cell_type": "markdown",
      "source": [
        "You notice that it doesn't use the standard UTF-8 encoding.\n",
        "\n",
        "Use the next code cell to create a variable `new_entry` that changes the encoding from `\"big5-tw\"` to `\"utf-8\"`.  `new_entry` should have the bytes datatype."
      ],
      "metadata": {
        "id": "TTAWJQ-7bE0D"
      }
    },
    {
      "cell_type": "code",
      "source": [
        "new_entry = sample_entry.decode(\"big5-tw\", errors=\"replace\").encode(\"utf-8\")\n",
        "\n",
        "# Check your answer\n",
        "q1.check()"
      ],
      "metadata": {
        "execution": {
          "iopub.status.busy": "2024-09-09T04:44:33.543983Z",
          "iopub.execute_input": "2024-09-09T04:44:33.544399Z",
          "iopub.status.idle": "2024-09-09T04:44:33.55677Z",
          "shell.execute_reply.started": "2024-09-09T04:44:33.544353Z",
          "shell.execute_reply": "2024-09-09T04:44:33.555398Z"
        },
        "trusted": true,
        "id": "HTsz7R24bE0D"
      },
      "execution_count": null,
      "outputs": []
    },
    {
      "cell_type": "code",
      "source": [
        "# Lines below will give you a hint or solution code\n",
        "#q1.hint()\n",
        "#q1.solution()"
      ],
      "metadata": {
        "id": "o3X-r2wGbE0D"
      },
      "execution_count": null,
      "outputs": []
    },
    {
      "cell_type": "markdown",
      "source": [
        "# 2) Reading in files with encoding problems\n",
        "\n",
        "Use the code cell below to read in this file at path `\"../input/fatal-police-shootings-in-the-us/PoliceKillingsUS.csv\"`.  \n",
        "\n",
        "Figure out what the correct encoding should be and read in the file to a DataFrame `police_killings`."
      ],
      "metadata": {
        "id": "Xe437w41bE0D"
      }
    },
    {
      "cell_type": "code",
      "source": [
        "with open(\"../input/fatal-police-shootings-in-the-us/PoliceKillingsUS.csv\", 'rb') as rawdata:\n",
        "    result = charset_normalizer.detect(rawdata.read(100000))\n",
        "\n",
        "print(result)"
      ],
      "metadata": {
        "execution": {
          "iopub.status.busy": "2024-09-09T04:54:21.197401Z",
          "iopub.execute_input": "2024-09-09T04:54:21.197899Z",
          "iopub.status.idle": "2024-09-09T04:54:21.882894Z",
          "shell.execute_reply.started": "2024-09-09T04:54:21.197855Z",
          "shell.execute_reply": "2024-09-09T04:54:21.881432Z"
        },
        "trusted": true,
        "id": "NRtGhnzrbE0D"
      },
      "execution_count": null,
      "outputs": []
    },
    {
      "cell_type": "code",
      "source": [
        "# TODO: Load in the DataFrame correctly.\n",
        "police_killings = pd.read_csv(\"../input/fatal-police-shootings-in-the-us/PoliceKillingsUS.csv\", encoding = \"Windows-1252\")\n",
        "\n",
        "# Check your answer\n",
        "q2.check()"
      ],
      "metadata": {
        "execution": {
          "iopub.status.busy": "2024-09-09T04:54:01.238275Z",
          "iopub.execute_input": "2024-09-09T04:54:01.239998Z",
          "iopub.status.idle": "2024-09-09T04:54:01.274214Z",
          "shell.execute_reply.started": "2024-09-09T04:54:01.239934Z",
          "shell.execute_reply": "2024-09-09T04:54:01.272583Z"
        },
        "trusted": true,
        "id": "mhjsRmBjbE0D"
      },
      "execution_count": null,
      "outputs": []
    },
    {
      "cell_type": "markdown",
      "source": [
        "Feel free to use any additional code cells for supplemental work.  To get credit for finishing this question, you'll need to run `q2.check()` and get a result of **Correct**."
      ],
      "metadata": {
        "id": "83wFb_ZHbE0D"
      }
    },
    {
      "cell_type": "code",
      "source": [
        "# (Optional) Use this code cell for any additional work."
      ],
      "metadata": {
        "id": "OfEqRqHWbE0E"
      },
      "execution_count": null,
      "outputs": []
    },
    {
      "cell_type": "code",
      "source": [
        "# Lines below will give you a hint or solution code\n",
        "# q2.hint()\n",
        "# q2.solution()"
      ],
      "metadata": {
        "execution": {
          "iopub.status.busy": "2024-09-09T04:54:33.18202Z",
          "iopub.execute_input": "2024-09-09T04:54:33.182452Z",
          "iopub.status.idle": "2024-09-09T04:54:33.188187Z",
          "shell.execute_reply.started": "2024-09-09T04:54:33.182411Z",
          "shell.execute_reply": "2024-09-09T04:54:33.186723Z"
        },
        "trusted": true,
        "id": "E-5-KpYbbE0E"
      },
      "execution_count": null,
      "outputs": []
    },
    {
      "cell_type": "markdown",
      "source": [
        "# 3) Saving your files with UTF-8 encoding\n",
        "\n",
        "Save a version of the police killings dataset to CSV with UTF-8 encoding.  Your answer will be marked correct after saving this file.  \n",
        "\n",
        "Note: When using the `to_csv()` method, supply only the name of the file (e.g., `\"my_file.csv\"`).  This saves the file at the filepath `\"/kaggle/working/my_file.csv\"`."
      ],
      "metadata": {
        "id": "rYySVejBbE0E"
      }
    },
    {
      "cell_type": "code",
      "source": [
        "# TODO: Save the police killings dataset to CSV\n",
        "police_killings.to_csv(\"police_killings-utf8.csv\")\n",
        "\n",
        "# Check your answer\n",
        "q3.check()"
      ],
      "metadata": {
        "execution": {
          "iopub.status.busy": "2024-09-09T04:56:27.932697Z",
          "iopub.execute_input": "2024-09-09T04:56:27.933173Z",
          "iopub.status.idle": "2024-09-09T04:56:27.988488Z",
          "shell.execute_reply.started": "2024-09-09T04:56:27.93313Z",
          "shell.execute_reply": "2024-09-09T04:56:27.987163Z"
        },
        "trusted": true,
        "id": "kTiz2Fp5bE0E"
      },
      "execution_count": null,
      "outputs": []
    },
    {
      "cell_type": "code",
      "source": [
        "# Lines below will give you a hint or solution code\n",
        "#q3.hint()\n",
        "# q3.solution()"
      ],
      "metadata": {
        "execution": {
          "iopub.status.busy": "2024-09-09T04:56:40.255547Z",
          "iopub.execute_input": "2024-09-09T04:56:40.255983Z",
          "iopub.status.idle": "2024-09-09T04:56:40.263047Z",
          "shell.execute_reply.started": "2024-09-09T04:56:40.255941Z",
          "shell.execute_reply": "2024-09-09T04:56:40.261266Z"
        },
        "trusted": true,
        "id": "jzr1oOkBbE0E"
      },
      "execution_count": null,
      "outputs": []
    },
    {
      "cell_type": "markdown",
      "source": [
        "# (Optional) More practice\n",
        "\n",
        "Check out [this dataset of files in different character encodings](https://www.kaggle.com/rtatman/character-encoding-examples). Can you read in all the files with their original encodings and them save them out as UTF-8 files?\n",
        "\n",
        "If you have a file that's in UTF-8 but has just a couple of weird-looking characters in it, you can try out the [ftfy module](https://ftfy.readthedocs.io/en/latest/#) and see if it helps.\n",
        "\n",
        "# Keep going\n",
        "\n",
        "In the final lesson, learn how to [**clean up inconsistent text entries**](https://www.kaggle.com/alexisbcook/inconsistent-data-entry) in your dataset."
      ],
      "metadata": {
        "id": "qU3GmzdJbE0E"
      }
    },
    {
      "cell_type": "markdown",
      "source": [
        "---\n",
        "\n",
        "\n",
        "\n",
        "\n",
        "*Have questions or comments? Visit the [course discussion forum](https://www.kaggle.com/learn/data-cleaning/discussion) to chat with other learners.*"
      ],
      "metadata": {
        "id": "U5YkwOE-bE0E"
      }
    }
  ]
}